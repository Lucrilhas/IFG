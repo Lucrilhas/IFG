{
  "cells": [
    {
      "cell_type": "markdown",
      "metadata": {
        "colab": {
          "base_uri": "https://localhost:8080/"
        },
        "id": "ruVSo_rthKWR",
        "outputId": "c6c990a6-37c0-47d7-f1b2-c44d762ea09e"
      },
      "source": [
        "### Atividade -- Data Augmentation\n",
        "\n",
        "Aluno: Lucas Elias de Andrade Cruvinel\n",
        "\n",
        "Matricula: 20232011270241\n",
        "\n",
        "Modelos Utilizados: Rotation e Flips"
      ]
    },
    {
      "cell_type": "code",
      "execution_count": 3,
      "metadata": {},
      "outputs": [],
      "source": [
        "import os\n",
        "import matplotlib.pyplot as plt\n",
        "import numpy as np\n",
        "import pandas as pd\n",
        "import seaborn as sns\n",
        "import shutil\n",
        "from dataclasses import dataclass\n",
        "import tensorflow as tf\n",
        "\n",
        "import keras\n",
        "from tensorflow.data import Dataset\n",
        "from keras.models import Sequential, load_model, Model\n",
        "from keras.layers import Conv2D, MaxPooling2D, Flatten, Dense, Dropout, Activation, InputLayer, RandomFlip, RandomRotation, Rescaling\n",
        "from keras.optimizers import RMSprop, Adam\n",
        "from keras.callbacks import ModelCheckpoint, EarlyStopping, TensorBoard\n",
        "from livelossplot import PlotLossesKeras\n",
        "from sklearn.metrics import confusion_matrix, ConfusionMatrixDisplay, classification_report\n",
        "from keras.utils import image_dataset_from_directory"
      ]
    },
    {
      "cell_type": "code",
      "execution_count": 4,
      "metadata": {},
      "outputs": [
        {
          "name": "stdout",
          "output_type": "stream",
          "text": [
            "3.2.1\n",
            "2.16.1\n"
          ]
        }
      ],
      "source": [
        "print(keras.__version__)\n",
        "print(tf.__version__)"
      ]
    },
    {
      "cell_type": "code",
      "execution_count": 2,
      "metadata": {},
      "outputs": [
        {
          "name": "stdout",
          "output_type": "stream",
          "text": [
            "['apple_pie', 'baby_back_ribs', 'baklava', 'beef_carpaccio', 'beef_tartare', 'beet_salad', 'beignets', 'bibimbap', 'bread_pudding', 'breakfast_burrito']\n"
          ]
        }
      ],
      "source": [
        "def create_train_test(quant_labels, original_folder=\"images\", root=\"visaoAugmentation/bd/\"):\n",
        "    subdirs = [name for name in os.listdir(root+original_folder) if os.path.isdir(os.path.join(root+original_folder, name))][:quant_labels]\n",
        "    for folder in [\"train\", \"test\"]:\n",
        "        if os.path.exists(root + folder):\n",
        "            shutil.rmtree(root + folder)\n",
        "        os.mkdir(root + folder)\n",
        "        for subdir in subdirs:\n",
        "            os.mkdir(root + folder + \"/\" + subdir)\n",
        "    with open(r\"visaoAugmentation/bd/meta/train.txt\", \"r\") as f:\n",
        "        for aux in f.readlines():\n",
        "            tipo, file_name = aux[:-1].split(\"/\")\n",
        "            if tipo in subdirs:\n",
        "                shutil.copy(f\"{root}{original_folder}/{tipo}/{file_name}.jpg\", f\"{root}train/{tipo}/{file_name}.jpg\")\n",
        "    with open(r\"visaoAugmentation/bd/meta/test.txt\", \"r\") as f:\n",
        "        for aux in f.readlines():\n",
        "            tipo, file_name = aux[:-1].split(\"/\")\n",
        "            if tipo in subdirs:\n",
        "                shutil.copy(f\"{root}{original_folder}/{tipo}/{file_name}.jpg\", f\"{root}test/{tipo}/{file_name}.jpg\")\n",
        "    return subdirs\n",
        "    \n",
        "quant_labels=10\n",
        "labels = create_train_test(quant_labels)\n",
        "print(labels)"
      ]
    },
    {
      "cell_type": "code",
      "execution_count": null,
      "metadata": {},
      "outputs": [],
      "source": [
        "# trainDS, validDS = image_dataset_from_directory(\n",
        "#     directory=\"visaoAugmentation/bd/train\",\n",
        "#     labels=\"inferred\",\n",
        "#     label_mode=\"categorical\",\n",
        "#     batch_size=32,\n",
        "#     image_size=(128, 128),\n",
        "#     shuffle=True,\n",
        "#     seed=42,\n",
        "#     validation_split=0.15,\n",
        "#     subset=\"both\",\n",
        "#     interpolation=\"bilinear\",\n",
        "#     verbose=True,\n",
        "# )\n",
        "testDS = image_dataset_from_directory(\n",
        "    directory=\"visaoAugmentation/bd/test\",\n",
        "    labels=\"inferred\",\n",
        "    label_mode=\"categorical\",\n",
        "    image_size=(128, 128),\n",
        "    shuffle=False,\n",
        "    interpolation=\"bilinear\",\n",
        "    verbose=True,\n",
        ")"
      ]
    },
    {
      "cell_type": "code",
      "execution_count": null,
      "metadata": {},
      "outputs": [],
      "source": [
        "def create_prof_model(quant_labels, nome=\"Exemplo\",  flip=False, rotation=False):\n",
        "    model = Sequential(name=nome)\n",
        "\n",
        "    #### Input Layer ####\n",
        "    model.add(InputLayer(shape=(128, 128, 3)))\n",
        "    model.add(Rescaling(1./255))\n",
        "    if flip:\n",
        "        model.add(RandomFlip(\"horizontal_and_vertical\"))\n",
        "\n",
        "    if rotation:\n",
        "        model.add(RandomRotation(0.2))\n",
        "\n",
        "    model.add(Conv2D(filters=32, kernel_size=(3,3), padding='same', activation='relu'))\n",
        "\n",
        "    #### Convolutional Layers ####\n",
        "    model.add(Conv2D(32, (3,3), activation='relu'))\n",
        "    model.add(MaxPooling2D((2,2)))  # Pooling\n",
        "    model.add(Dropout(0.2)) # Dropout\n",
        "\n",
        "    model.add(Conv2D(64, (3,3), padding='same', activation='relu'))\n",
        "    model.add(Conv2D(64, (3,3), activation='relu'))\n",
        "    model.add(MaxPooling2D((2,2)))\n",
        "    model.add(Dropout(0.2))\n",
        "\n",
        "    model.add(Conv2D(128, (3,3), padding='same', activation='relu'))\n",
        "    model.add(Conv2D(128, (3,3), activation='relu'))\n",
        "    model.add(Activation('relu'))\n",
        "    model.add(MaxPooling2D((2,2)))\n",
        "    model.add(Dropout(0.2))\n",
        "\n",
        "    model.add(Conv2D(512, (5,5), padding='same', activation='relu'))\n",
        "    model.add(Conv2D(512, (5,5), activation='relu'))\n",
        "    model.add(MaxPooling2D((4,4)))\n",
        "    model.add(Dropout(0.2))\n",
        "\n",
        "    #### Fully-Connected Layer ####\n",
        "    model.add(Flatten())\n",
        "    model.add(Dense(1024, activation='relu'))\n",
        "    model.add(Dropout(0.2))\n",
        "    model.add(Dense(quant_labels, activation='softmax'))\n",
        "\n",
        "    return model\n",
        "    \n",
        "model = create_prof_model(quant_labels, flip=True, rotation=True)\n",
        "model.summary() # a handy way to inspect the architecture"
      ]
    },
    {
      "cell_type": "code",
      "execution_count": null,
      "metadata": {},
      "outputs": [],
      "source": [
        "def run_model(batch_size, n_epochs, optimizer, checkpoint_filepath, nome, flip=False, rotation=False):\n",
        "    trainDS, validDS = image_dataset_from_directory(\n",
        "        directory=\"visaoAugmentation/bd/train\",\n",
        "        labels=\"inferred\",\n",
        "        label_mode=\"categorical\",\n",
        "        batch_size=batch_size,\n",
        "        image_size=(128, 128),\n",
        "        shuffle=True,\n",
        "        seed=42,\n",
        "        validation_split=0.15,\n",
        "        subset=\"both\",\n",
        "        interpolation=\"bilinear\",\n",
        "        verbose=True,\n",
        "        )\n",
        "\n",
        "    model = create_prof_model(quant_labels, nome, flip=flip, rotation=rotation)\n",
        "    model.compile(loss='categorical_crossentropy', optimizer=optimizer, metrics=['accuracy'])\n",
        "\n",
        "    # Saves Keras model after each epoch\n",
        "    checkpointer = ModelCheckpoint(filepath=checkpoint_filepath, verbose=1, save_best_only=True)\n",
        "\n",
        "    # Early stopping to prevent overtraining and to ensure decreasing validation loss\n",
        "    early_stop = EarlyStopping(monitor='val_loss', patience=10, restore_best_weights=True, mode='min')\n",
        "\n",
        "    history = model.fit(\n",
        "        trainDS,\n",
        "        epochs=n_epochs,\n",
        "        validation_data=validDS,\n",
        "        callbacks=[\n",
        "            early_stop, \n",
        "            checkpointer, \n",
        "            # PlotLossesKeras()\n",
        "            ],\n",
        "        verbose=True)\n",
        "    return history"
      ]
    },
    {
      "cell_type": "code",
      "execution_count": null,
      "metadata": {},
      "outputs": [],
      "source": [
        "@dataclass\n",
        "class model_data:\n",
        "    model: str\n",
        "    labels: list()\n",
        "    hist: None = None\n",
        "    y_pred: None = None\n",
        "    cm: None = None\n",
        "    report: None = None\n",
        "\n",
        "    def get_weight_path(self):\n",
        "        return f\"visaoAugmentation/pesos/food_model_{self.model}.weights.keras\"\n",
        "\n",
        "    def execute_model(self, batch_size, n_epochs, flip=False, rotation=False):\n",
        "        self.hist = run_model(\n",
        "            batch_size,\n",
        "            n_epochs,\n",
        "            optimizer=RMSprop(learning_rate=0.0001), \n",
        "            checkpoint_filepath = self.get_weight_path(),\n",
        "            nome=self.model, \n",
        "            flip=flip, \n",
        "            rotation=rotation\n",
        "        )\n",
        "\n",
        "    def execute_prediction(self, testDS):\n",
        "        model = load_model(self.get_weight_path())\n",
        "        predict = model.predict(testDS)\n",
        "        self.y_pred = np.argmax(predict, axis=-1)\n",
        "        y_true = np.argmax(np.concatenate([y for x, y in testDS], axis=0), axis=1)\n",
        "        self.cm = confusion_matrix(y_true, self.y_pred)\n",
        "        self.report = classification_report(y_true, self.y_pred,target_names=self.labels, output_dict=True, zero_division=0.0)\n",
        "\n",
        "models_data = {k: model_data(k, labels) for k in [\"padrao\", \"flip\", \"rotation\", \"flip_and_rotation\"]}\n",
        "\n",
        "BATCH_SIZE = 32\n",
        "N_EPOCHS = 2"
      ]
    },
    {
      "cell_type": "code",
      "execution_count": null,
      "metadata": {},
      "outputs": [],
      "source": [
        "models_data[\"padrao\"].execute_model(BATCH_SIZE, N_EPOCHS, flip=False, rotation=False)"
      ]
    },
    {
      "cell_type": "code",
      "execution_count": null,
      "metadata": {},
      "outputs": [],
      "source": [
        "models_data[\"flip\"].execute_model(BATCH_SIZE, N_EPOCHS, flip=True, rotation=False)"
      ]
    },
    {
      "cell_type": "code",
      "execution_count": null,
      "metadata": {},
      "outputs": [],
      "source": [
        "models_data[\"rotation\"].execute_model(BATCH_SIZE, N_EPOCHS, flip=False, rotation=True)"
      ]
    },
    {
      "cell_type": "code",
      "execution_count": null,
      "metadata": {},
      "outputs": [],
      "source": [
        "models_data[\"flip_and_rotation\"].execute_model(BATCH_SIZE, N_EPOCHS, flip=True, rotation=True)"
      ]
    },
    {
      "cell_type": "code",
      "execution_count": null,
      "metadata": {},
      "outputs": [],
      "source": [
        "for k, i in models_data.items():\n",
        "    print(k)\n",
        "    i.execute_prediction(testDS)\n"
      ]
    },
    {
      "cell_type": "code",
      "execution_count": null,
      "metadata": {},
      "outputs": [],
      "source": [
        "fig, axes = plt.subplots(2, 2, figsize=(15, 9))\n",
        "\n",
        "for ind, elem in enumerate(models_data.values()):\n",
        "    i, j = divmod(ind, 2)\n",
        "    sns.heatmap(elem.cm, ax=axes[i, j], annot=True, fmt=\"d\", linewidth=.5, cmap=\"crest\", xticklabels=labels, yticklabels=labels)\n",
        "\n",
        "plt.subplots_adjust(wspace=0.1, hspace=0.4)\n",
        "plt.savefig(\"visaoAugmentation/confusion_matrix.png\")\n",
        "plt.plot()"
      ]
    },
    {
      "cell_type": "code",
      "execution_count": null,
      "metadata": {
        "colab": {
          "base_uri": "https://localhost:8080/",
          "height": 380
        },
        "id": "IkbbPUPZskqD",
        "outputId": "5cf7986c-605d-4d8b-d27f-81a355655c4d"
      },
      "outputs": [],
      "source": [
        "fig, ax = plt.subplots(1, 1, figsize=(10, 6))\n",
        "data = []\n",
        "for ind, elem in enumerate(models_data.values()):\n",
        "    data.append([elem.model, \"Accuracy \", elem.report[\"accuracy\"]*100.0])\n",
        "    data.append([elem.model, \"Precision \", elem.report[\"macro avg\"][\"precision\"]*100.0])\n",
        "    data.append([elem.model, \"Recall \", elem.report[\"macro avg\"][\"recall\"]*100.0])\n",
        "    data.append([elem.model, \"F1-score \", elem.report[\"macro avg\"][\"f1-score\"]*100.0])\n",
        "\n",
        "df = pd.DataFrame(data, columns=['Grupo', 'Metrica', 'Porcentagem'])\n",
        "# ax.grid()\n",
        "sns.set_style(\"ticks\",{'axes.grid' : True})\n",
        "sns.barplot(data=df, ax=ax, x='Metrica', y='Porcentagem', hue='Grupo', width=0.6)\n",
        "plt.savefig(\"visaoAugmentation/barplot.png\")\n",
        "plt.show()"
      ]
    },
    {
      "cell_type": "code",
      "execution_count": null,
      "metadata": {},
      "outputs": [],
      "source": [
        "for ind, elem in enumerate(models_data.values()):\n",
        "    fig, axes = plt.subplots(1, 2, figsize=(10, 6))\n",
        "    axes[0].plot(elem.hist.history['accuracy'])\n",
        "    axes[0].plot(elem.hist.history['val_accuracy'])\n",
        "    axes[0].set_title(f'Modelo {elem.model} - Acurácia')\n",
        "    axes[0].set_ylabel('Acurácia')\n",
        "    axes[0].set_xlabel('Época')\n",
        "    axes[0].legend(['Treino', 'Validação'], loc='upper left')\n",
        "\n",
        "    axes[1].plot(elem.hist.history['loss'])\n",
        "    axes[1].plot(elem.hist.history['val_loss'])\n",
        "    axes[1].set_title(f'Modelo {elem.model} - Loss')\n",
        "    axes[1].set_ylabel('Loss')\n",
        "    axes[1].set_xlabel('Época')\n",
        "    axes[1].legend(['Treino', 'Validação'], loc='upper left')\n",
        "\n",
        "    plt.savefig(f\"visaoAugmentation/hist_{elem.model}.png\")\n",
        "    plt.show()"
      ]
    }
  ],
  "metadata": {
    "accelerator": "GPU",
    "colab": {
      "gpuType": "T4",
      "provenance": []
    },
    "gpuClass": "standard",
    "kernelspec": {
      "display_name": "Python 3",
      "name": "python3"
    },
    "language_info": {
      "codemirror_mode": {
        "name": "ipython",
        "version": 3
      },
      "file_extension": ".py",
      "mimetype": "text/x-python",
      "name": "python",
      "nbconvert_exporter": "python",
      "pygments_lexer": "ipython3",
      "version": "3.11.7"
    }
  },
  "nbformat": 4,
  "nbformat_minor": 0
}
