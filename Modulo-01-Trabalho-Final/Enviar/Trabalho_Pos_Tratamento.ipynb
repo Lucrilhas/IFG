{
  "nbformat": 4,
  "nbformat_minor": 0,
  "metadata": {
    "colab": {
      "provenance": []
    },
    "kernelspec": {
      "name": "python3",
      "display_name": "Python 3"
    },
    "language_info": {
      "name": "python"
    }
  },
  "cells": [
    {
      "cell_type": "markdown",
      "source": [
        "### Bibliotecas"
      ],
      "metadata": {
        "id": "Vkn8kK8MBFhF"
      }
    },
    {
      "cell_type": "code",
      "source": [
        "import numpy as np\n",
        "import pandas as pd\n",
        "# https://gist.github.com/morcefaster/a5a33ee4ea70d4da84f9a3d66c3892e0"
      ],
      "metadata": {
        "id": "rDCKqG0qBIex"
      },
      "execution_count": null,
      "outputs": []
    },
    {
      "cell_type": "markdown",
      "source": [
        "### Gerando sudoku de teste\n"
      ],
      "metadata": {
        "id": "qI-1q30WFbFU"
      }
    },
    {
      "cell_type": "code",
      "source": [
        "# Exemplos de jogos de sudoku\n",
        "\n",
        "jogos = [\n",
        "    # Jogo OK\n",
        "    pd.DataFrame(\n",
        "        [[5, 3, 0, 0, 7, 0, 0, 0, 0],\n",
        "        [6, 0, 0, 1, 9, 5, 0, 0, 0],\n",
        "        [0, 9, 8, 0, 0, 0, 0, 6, 0],\n",
        "        [8, 0, 0, 0, 6, 0, 0, 0, 3],\n",
        "        [4, 0, 0, 8, 0, 3, 0, 0, 1],\n",
        "        [7, 0, 0, 0, 2, 0, 0, 0, 6],\n",
        "        [0, 6, 0, 0, 0, 0, 2, 8, 0],\n",
        "        [0, 0, 0, 4, 1, 9, 0, 0, 5],\n",
        "        [0, 0, 0, 0, 8, 0, 0, 7, 9]]\n",
        "    ),\n",
        "    # Jogo com tamnho 8x8\n",
        "    pd.DataFrame(\n",
        "      [[5, 3, 0, 0, 7, 0, 0, 0],\n",
        "      [6, 0, 0, 1, 9, 5, 0, 0],\n",
        "      [0, 9, 8, 0, 0, 0, 0, 6],\n",
        "      [8, 0, 0, 0, 6, 0, 0, 0],\n",
        "      [4, 0, 0, 8, 0, 3, 0, 0],\n",
        "      [7, 0, 0, 0, 2, 0, 0, 0],\n",
        "      [0, 6, 0, 0, 0, 0, 2, 8],\n",
        "      [0, 0, 0, 4, 1, 9, 0, 0]]\n",
        "    ),\n",
        "    # Jogo OK\n",
        "    pd.DataFrame(\n",
        "      [[0,9,0,8,6,5,2,0,0],\n",
        "\t\t\t[0,0,5,0,1,2,0,6,8],\n",
        "\t\t\t[0,0,0,0,0,0,0,4,0],\n",
        "\t\t\t[0,0,0,0,0,8,0,5,6],\n",
        "\t\t\t[0,0,8,0,0,0,4,0,0],\n",
        "\t\t\t[4,5,0,9,0,0,0,0,0],\n",
        "\t\t\t[0,8,0,0,0,0,0,0,0],\n",
        "\t\t\t[2,4,0,1,7,0,5,0,0],\n",
        "\t\t\t[0,0,7,2,8,3,0,9,0]]\n",
        "    ),\n",
        "    # Jogo com valores errados\n",
        "    pd.DataFrame(\n",
        "      [[5, 3, 0, 20, 7, 0, 0, 0, 0],\n",
        "      [6, 0, 0, 1, 9, 5, 0, 0, 0],\n",
        "      [0, 9, 8, 0, 0, 0, 0, 6, 0],\n",
        "      [8, 0, 0, 0,-16, 0, 0, 0, 3],\n",
        "      [4, 0, 0, 8, 0, 3, 0, 0, 1],\n",
        "      [7, 0, 0, 0, 2, 0, 0, 0, 6],\n",
        "      [0, 6, 0, 0, 0, 0, 2, 8, 0],\n",
        "      [0, 0, 0, 4, 1, 9, 0, 0, 5],\n",
        "      [0, 0, 0, 0, 8, 0, 0, 7, 9]]\n",
        "    ),\n",
        "    # Jogo OK\n",
        "    pd.DataFrame(\n",
        "        [[0,0,7,6,3,0,5,4,0],\n",
        "        [0,0,0,0,2,1,8,0,9],\n",
        "        [0,0,0,0,0,0,3,0,0],\n",
        "        [0,2,5,0,0,4,6,0,7],\n",
        "        [0,0,0,0,0,0,0,0,0],\n",
        "        [8,0,4,5,0,0,9,1,0],\n",
        "        [0,0,8,0,0,0,0,0,0],\n",
        "        [1,0,3,7,4,0,0,0,0],\n",
        "        [0,5,2,0,1,3,7,0,0]],\n",
        "    ),\n",
        "    # Jogo com valores repetidos\n",
        "    pd.DataFrame(\n",
        "        [[0,0,7,6,3,3,5,4,0],\n",
        "        [0,0,0,0,2,1,8,0,9],\n",
        "        [0,0,0,0,0,0,3,0,0],\n",
        "        [0,2,5,0,0,4,6,0,7],\n",
        "        [0,0,0,0,0,0,0,0,0],\n",
        "        [8,0,4,5,0,0,9,1,0],\n",
        "        [0,2,8,0,0,0,0,0,0],\n",
        "        [1,0,3,7,4,0,0,0,0],\n",
        "        [0,5,2,0,1,3,7,0,0]],\n",
        "    )\n",
        "]"
      ],
      "metadata": {
        "id": "x6Dth-nnT0ti"
      },
      "execution_count": null,
      "outputs": []
    },
    {
      "cell_type": "code",
      "source": [
        "print(jogos[0].to_string(header=False,index=False,index_names=False).replace(\" \", \", \"))"
      ],
      "metadata": {
        "colab": {
          "base_uri": "https://localhost:8080/"
        },
        "id": "tS_qqD8uZDhG",
        "outputId": "18ac2ba0-230c-42d5-af0e-a94f3e50152c"
      },
      "execution_count": null,
      "outputs": [
        {
          "output_type": "stream",
          "name": "stdout",
          "text": [
            "5, 3, 0, 0, 7, 0, 0, 0, 0\n",
            "6, 0, 0, 1, 9, 5, 0, 0, 0\n",
            "0, 9, 8, 0, 0, 0, 0, 6, 0\n",
            "8, 0, 0, 0, 6, 0, 0, 0, 3\n",
            "4, 0, 0, 8, 0, 3, 0, 0, 1\n",
            "7, 0, 0, 0, 2, 0, 0, 0, 6\n",
            "0, 6, 0, 0, 0, 0, 2, 8, 0\n",
            "0, 0, 0, 4, 1, 9, 0, 0, 5\n",
            "0, 0, 0, 0, 8, 0, 0, 7, 9\n"
          ]
        }
      ]
    },
    {
      "cell_type": "code",
      "source": [
        "# Escreve entradas na memória\n",
        "# CSVs unicos\n",
        "for i, database in enumerate(jogos):\n",
        "  database.to_csv(f\"jogo_{i}.csv\")\n",
        "  database.to_json(f\"jogo_{i}.json\")"
      ],
      "metadata": {
        "id": "FSqD18mWXOBa"
      },
      "execution_count": null,
      "outputs": []
    },
    {
      "cell_type": "code",
      "source": [
        "# Exemplo de um jogo de sudoku normal\n",
        "sudoku_teste = [\n",
        "    [5, 3, 0, 0, 7, 0, 0, 0, 0],\n",
        "    [6, 0, 0, 1, 9, 5, 0, 0, 0],\n",
        "    [0, 9, 8, 0, 0, 0, 0, 6, 0],\n",
        "    [8, 0, 0, 0, 6, 0, 0, 0, 3],\n",
        "    [4, 0, 0, 8, 0, 3, 0, 0, 1],\n",
        "    [7, 0, 0, 0, 2, 0, 0, 0, 6],\n",
        "    [0, 6, 0, 0, 0, 0, 2, 8, 0],\n",
        "    [0, 0, 0, 4, 1, 9, 0, 0, 5],\n",
        "    [0, 0, 0, 0, 8, 0, 0, 7, 9]\n",
        "]\n",
        "\n",
        "# Criar um DataFrame a partir da matriz\n",
        "sudoku_df = pd.DataFrame(sudoku_teste)\n",
        "\n",
        "# Exibir o DataFrame\n",
        "# print(sudoku_df)\n",
        "\n",
        "# Salvar o DataFrame como um arquivo CSV\n",
        "sudoku_df.to_csv('sudoku_teste_ok.csv', index=False)"
      ],
      "metadata": {
        "id": "gPXFkuKeFbQJ"
      },
      "execution_count": null,
      "outputs": []
    },
    {
      "cell_type": "code",
      "source": [
        "# Criacao de sudokus com erros:\n",
        "\n",
        "# Sudoku com tamnho 8x8\n",
        "sudoku_teste = [\n",
        "    [5, 3, 0, 0, 7, 0, 0, 0],\n",
        "    [6, 0, 0, 1, 9, 5, 0, 0],\n",
        "    [0, 9, 8, 0, 0, 0, 0, 6],\n",
        "    [8, 0, 0, 0, 6, 0, 0, 0],\n",
        "    [4, 0, 0, 8, 0, 3, 0, 0],\n",
        "    [7, 0, 0, 0, 2, 0, 0, 0],\n",
        "    [0, 6, 0, 0, 0, 0, 2, 8],\n",
        "    [0, 0, 0, 4, 1, 9, 0, 0],\n",
        "]\n",
        "pd.DataFrame(sudoku_teste).to_csv('sudoku_teste_tam_errado.csv', index=False)\n",
        "\n",
        "# Sudoku com valores errados\n",
        "sudoku_teste = [\n",
        "    [5, 3, 0, 20, 7, 0, 0, 0, 0],\n",
        "    [6, 0, 0, 1, 9, 5, 0, 0, 0],\n",
        "    [0, 9, 8, 0, 0, 0, 0, 6, 0],\n",
        "    [8, 0, 0, 0,-16, 0, 0, 0, 3],\n",
        "    [4, 0, 0, 8, 0, 3, 0, 0, 1],\n",
        "    [7, 0, 0, 0, 2, 0, 0, 0, 6],\n",
        "    [0, 6, 0, 0, 0, 0, 2, 8, 0],\n",
        "    [0, 0, 0, 4, 1, 9, 0, 0, 5],\n",
        "    [0, 0, 0, 0, 8, 0, 0, 7, 9]\n",
        "]\n",
        "pd.DataFrame(sudoku_teste).to_csv('sudoku_teste_nums_errado.csv', index=False)\n",
        "\n",
        "# Sudoku com valores repetidos\n",
        "sudoku_teste = [\n",
        "    [5, 3, 0, 0, 7, 0, 0, 0, 0],\n",
        "    [6, 0, 0, 1, 9, 5, 0, 0, 0],\n",
        "    [0, 9, 8, 0, 0, 0, 0, 6, 0],\n",
        "    [8, 0, 0, 0, 6, 0, 0, 0, 3],\n",
        "    [4, 0, 0, 8, 0, 3, 0, 0, 1],\n",
        "    [7, 0, 0, 0, 2, 0, 0, 0, 6],\n",
        "    [0, 6, 0, 0, 0, 0, 2, 8, 0],\n",
        "    [0, 0, 6, 4, 1, 9, 0, 0, 5],\n",
        "    [7, 0, 0, 0, 8, 0, 0, 7, 9]\n",
        "]\n",
        "pd.DataFrame(sudoku_teste).to_csv('sudoku_teste_nums_repetidos.csv', index=False)"
      ],
      "metadata": {
        "id": "iDRt-VIHK5RP"
      },
      "execution_count": null,
      "outputs": []
    },
    {
      "cell_type": "code",
      "source": [
        "sudoku_facil = [\n",
        "    [3, 1, 0, 0, 0, 5, 9, 4, 8],\n",
        "    [9, 0, 0, 4, 0, 3, 0, 0, 7],\n",
        "    [1, 3, 0, 6, 0, 2, 0, 7, 0],\n",
        "    [0, 0, 9, 0, 0, 0, 2, 0, 0],\n",
        "    [4, 0, 0, 8, 0, 3, 0, 0, 1],\n",
        "    [7, 0, 0, 0, 2, 0, 0, 0, 6],\n",
        "    [0, 6, 0, 0, 0, 0, 2, 8, 0],\n",
        "    [0, 0, 6, 4, 1, 9, 0, 0, 5],\n",
        "    [7, 0, 0, 0, 8, 0, 0, 7, 9]\n",
        "]\n",
        "pd.DataFrame(sudoku_teste).to_csv('sudoku_teste_nums_repetidos.csv', index=False)"
      ],
      "metadata": {
        "id": "OPaLnw9qUO9J"
      },
      "execution_count": null,
      "outputs": []
    },
    {
      "cell_type": "markdown",
      "source": [
        "### Leitura do csv"
      ],
      "metadata": {
        "id": "wlnTSvYeAavP"
      }
    },
    {
      "cell_type": "code",
      "execution_count": null,
      "metadata": {
        "id": "_wqYRt6_AY9_"
      },
      "outputs": [],
      "source": [
        "def ler_entrada(path):\n",
        "  if path[-4:] == \".csv\":\n",
        "    with open(path, 'r', newline='') as csv_file:\n",
        "      sudoku_df = pd.read_csv(path)\n",
        "      # Verifica se o tamanho e valido\n",
        "      if sudoku_df.shape != (9, 9):\n",
        "        print(\"Sudoku Invalido: Tamanho anormal.\")\n",
        "        return None\n",
        "      else:\n",
        "        print(\"O sudoku tem o tamanho normal\")\n",
        "\n",
        "      # Verificar se ha apenas valores entre 0 e 9:\n",
        "      intervalo = (sudoku_df >= 0) & (sudoku_df <= 9)\n",
        "      if intervalo.all().all():\n",
        "        print(\"Todos os elementos do Sudoku estão entre 0 e 9.\")\n",
        "      else:\n",
        "        print(\"Pelo menos um elemento do DataFrame está fora do intervalo de 0 a 9.\")\n",
        "        return None\n",
        "\n",
        "      # Transforma os valores 0 para None:\n",
        "      sudoku_df = sudoku_df.applymap(lambda x: None if x == 0 else x)\n",
        "      # print(sudoku_df)\n",
        "\n",
        "      # Verifica se o jogo veio com elementos repetidos\n",
        "      elementos_iguais = {'linha':[], 'coluna':[], 'quadrante':[]}\n",
        "      for i in range(9):\n",
        "        # Verifica elementos repetidos na linha\n",
        "        linha = sudoku_df.iloc[i]\n",
        "        if linha[linha.notnull()].duplicated().any():\n",
        "          elementos_iguais['linha'].append(i)\n",
        "\n",
        "        # Verifica elementos repetidos na coluna\n",
        "        coluna = sudoku_df.iloc[:, i]\n",
        "        if coluna[coluna.notnull()].duplicated().any():\n",
        "          elementos_iguais['coluna'].append(i)\n",
        "      # Verifica elementos repetidos no quadrante\n",
        "      for i in range(3):\n",
        "        for j in range(3):\n",
        "          quadrante = sudoku_df.iloc[i*3:i*3+3, j*3:j*3+3]\n",
        "          valores_nao_nulos = quadrante.stack().dropna()\n",
        "          if valores_nao_nulos.duplicated().any():\n",
        "            elementos_iguais['quadrante'].append((i, j))\n",
        "      # print(elementos_iguais)\n",
        "\n",
        "      # Confere se houver erro:\n",
        "      if len(elementos_iguais['linha']) == 0 and len(elementos_iguais['coluna']) == 0 and len(elementos_iguais['quadrante']) == 0:\n",
        "        print(\"O Sudoku não apresenta erros de repetição\")\n",
        "      else:\n",
        "        print(\"O sudoku apresenta valores repetidos nos seguintes locais:\")\n",
        "        if len(elementos_iguais['linha']) != 0:\n",
        "          for aux in elementos_iguais['linha']:\n",
        "            print(f\"Linha {aux}\")\n",
        "        if len(elementos_iguais['coluna']) != 0:\n",
        "          for aux in elementos_iguais['coluna']:\n",
        "            print(f\"Coluna {aux}\")\n",
        "        if len(elementos_iguais['quadrante']) != 0:\n",
        "          for aux in elementos_iguais['quadrante']:\n",
        "            print(f\"Quadrante {aux}\")\n",
        "        return None\n",
        "      sudoku_np = np.array(sudoku_df.values.ravel(), dtype=np.int8)\n",
        "      return sudoku_np\n",
        "\n"
      ]
    }
  ]
}