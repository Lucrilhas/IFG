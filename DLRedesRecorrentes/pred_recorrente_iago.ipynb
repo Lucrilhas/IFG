{
  "cells": [
    {
      "cell_type": "markdown",
      "metadata": {
        "id": "3V8vnO298PaG"
      },
      "source": [
        "**Deep Learning - Redes Recorrentes**\n",
        "\n",
        "> 12/04/2024\n",
        "\n",
        "\n"
      ]
    },
    {
      "cell_type": "markdown",
      "metadata": {},
      "source": [
        "**Integrantes**\n",
        "\n",
        "- André Luiz Pires Guimarães\n",
        "- Daniel de Souza Miranda\n",
        "- Iago Nery Mendes\n",
        "- Lucas Elias de Andrade Cruvinel\n",
        "- Victor Hugo Brito da Silva Miranda"
      ]
    },
    {
      "cell_type": "code",
      "execution_count": 1,
      "metadata": {
        "id": "wTux7uER8PaK"
      },
      "outputs": [],
      "source": [
        "import numpy as np\n",
        "import pandas as pd\n",
        "\n",
        "import matplotlib.pyplot as plt\n",
        "import seaborn as sns\n",
        "\n",
        "%matplotlib inline"
      ]
    },
    {
      "cell_type": "code",
      "execution_count": 2,
      "metadata": {
        "id": "cKXxsogI8PaL"
      },
      "outputs": [],
      "source": [
        "sns.set(style=\"darkgrid\", font_scale=1.5)"
      ]
    },
    {
      "cell_type": "code",
      "execution_count": 3,
      "metadata": {
        "id": "b-WWrMSU8PaM"
      },
      "outputs": [],
      "source": [
        "from pandas.plotting import register_matplotlib_converters\n",
        "register_matplotlib_converters()"
      ]
    },
    {
      "cell_type": "markdown",
      "metadata": {
        "id": "or0Knc2V8PaN"
      },
      "source": [
        "Lendo o CSV e visualizando os dados. Como se tratam de dados temporais, utilizarmos a coluna \"timestamp\" como índice."
      ]
    },
    {
      "cell_type": "code",
      "execution_count": null,
      "metadata": {
        "colab": {
          "base_uri": "https://localhost:8080/"
        },
        "id": "iG2q1oSW8PaO",
        "outputId": "fb507e53-6ce9-4ea8-902b-8e44866ddde1"
      },
      "outputs": [],
      "source": [
        "df = pd.read_csv(\"RecurrentNeuralNetwork/stock_data.csv\", parse_dates=[\"timestamp\"], index_col=\"timestamp\")\n",
        "df.shape"
      ]
    },
    {
      "cell_type": "code",
      "execution_count": null,
      "metadata": {
        "colab": {
          "base_uri": "https://localhost:8080/",
          "height": 237
        },
        "id": "l_X_73cc8PaP",
        "outputId": "da16d185-fe7a-4acf-8dcb-e1ff26a9ba8c"
      },
      "outputs": [],
      "source": [
        "df.head()"
      ]
    },
    {
      "cell_type": "markdown",
      "metadata": {
        "id": "LUUouRpe8PaQ"
      },
      "source": [
        "Os dados contêm mais de 1600 linhas (uma para cada dia), e 11 colunas. Vamos remover todas as colunas exceto a coluna \"close\" (único dado de interesse)"
      ]
    },
    {
      "cell_type": "code",
      "execution_count": null,
      "metadata": {
        "colab": {
          "base_uri": "https://localhost:8080/"
        },
        "id": "rFif2NLa8PaR",
        "outputId": "f0fc883c-5aad-4aa1-a75b-77a86f31d5d4"
      },
      "outputs": [],
      "source": [
        "df.drop('high', axis=1, inplace=True)\n",
        "df.drop('low', axis=1, inplace=True)\n",
        "df.drop('open', axis=1, inplace=True)\n",
        "df.drop('volume', axis=1, inplace=True)\n",
        "df.drop('close_time', axis=1, inplace=True)\n",
        "df.drop('quote_av', axis=1, inplace=True)\n",
        "df.drop('trades', axis=1, inplace=True)\n",
        "df.drop('tb_base_av', axis=1, inplace=True)\n",
        "df.drop('tb_quote_av', axis=1, inplace=True)\n",
        "df.drop('ignore', axis=1, inplace=True)\n",
        "\n",
        "#df['close'] = df['close'].pct_change() # mudaria para porcentagem de mudança\n",
        "df.dropna(how='any', axis=0, inplace=True)\n",
        "\n",
        "df.shape"
      ]
    },
    {
      "cell_type": "code",
      "execution_count": null,
      "metadata": {
        "colab": {
          "base_uri": "https://localhost:8080/",
          "height": 237
        },
        "id": "G7YQ_Uud8PaT",
        "outputId": "2e1b9779-5e0d-4a16-f884-f771c98e938d"
      },
      "outputs": [],
      "source": [
        "df.tail()"
      ]
    },
    {
      "cell_type": "markdown",
      "metadata": {
        "id": "VYWtO_6U8PaU"
      },
      "source": [
        "Vamos verificar os dados temporais plotados."
      ]
    },
    {
      "cell_type": "code",
      "execution_count": null,
      "metadata": {
        "colab": {
          "base_uri": "https://localhost:8080/",
          "height": 610
        },
        "id": "oR7X7NXf8PaV",
        "outputId": "1099a95f-ffc9-43a0-857b-42ac5a43c62c"
      },
      "outputs": [],
      "source": [
        "plt.figure(figsize=(12,6))\n",
        "sns.lineplot(x=df.index, y=\"close\", data=df).set_title(\"Variações de Preço\")"
      ]
    },
    {
      "cell_type": "markdown",
      "metadata": {
        "id": "b2WYs-Lu8PaW"
      },
      "source": [
        "Amortizando a visualização..."
      ]
    },
    {
      "cell_type": "code",
      "execution_count": null,
      "metadata": {
        "colab": {
          "base_uri": "https://localhost:8080/",
          "height": 616
        },
        "id": "QhoMkLKh8PaW",
        "outputId": "e34a2569-72bd-46e0-fd76-b168f1613a93"
      },
      "outputs": [],
      "source": [
        "df.resample('10D').mean().plot(figsize=(12,6))\n",
        "plt.figtext(.5,0.9,\"sub-amostragem para intervalos de 10 dias\", fontsize=20, ha='center')"
      ]
    },
    {
      "cell_type": "markdown",
      "metadata": {
        "id": "n92C-Hlv8PaX"
      },
      "source": [
        "# Model"
      ]
    },
    {
      "cell_type": "markdown",
      "metadata": {
        "id": "17i9psdc8PaX"
      },
      "source": [
        "Redes recorrentes são modelos poderosos para tratar sequências, pois eles mantêm o estado interno sobre as variações anteriores. Tais redes requerem uma matriz 3d com formato: (num_exemplos_treino, timesteps, input_dim).\n",
        "\n",
        "Vamos construir um modelo usando timesteps=50 valores anteriores para prever o próximo valor. Como estamos usando apenas uma variável, input_dim=1."
      ]
    },
    {
      "cell_type": "markdown",
      "metadata": {
        "id": "wOk6OSmv8PaY"
      },
      "source": [
        "## Pré-processamento dos dados\n",
        "Reorganizando os dados de forma que uma sequencia de valores dos 50 dias anteriores seja usada para prever o próximo dia. Os valores também serão normalizados entre 0 e 1."
      ]
    },
    {
      "cell_type": "code",
      "execution_count": null,
      "metadata": {
        "id": "LF8Qb1Xu8PaZ"
      },
      "outputs": [],
      "source": [
        "data = df.iloc[:, 0]\n",
        "#data=df[['close', 'high', 'low']].to_numpy()\n",
        "data\n"
      ]
    },
    {
      "cell_type": "code",
      "execution_count": null,
      "metadata": {
        "id": "azMshST88PaZ"
      },
      "outputs": [],
      "source": [
        "hist = []\n",
        "target = []\n",
        "length = 20\n",
        "\n",
        "for i in range(len(data)-length):\n",
        "    x = data[i:i+length]\n",
        "    y = data[i+length]\n",
        "\n",
        "    hist.append(x)\n",
        "    target.append(y)"
      ]
    },
    {
      "cell_type": "code",
      "execution_count": null,
      "metadata": {},
      "outputs": [],
      "source": [
        "print(hist[0])"
      ]
    },
    {
      "cell_type": "code",
      "execution_count": null,
      "metadata": {
        "colab": {
          "base_uri": "https://localhost:8080/"
        },
        "id": "u5Rfdqdu8Paa",
        "outputId": "b19e415a-7f31-45b0-a82d-ef1f89f81f3f"
      },
      "outputs": [],
      "source": [
        "print(len(hist[0]))\n",
        "print(len(hist))\n",
        "print(len(target))"
      ]
    },
    {
      "cell_type": "code",
      "execution_count": null,
      "metadata": {
        "colab": {
          "base_uri": "https://localhost:8080/"
        },
        "id": "RxxmWNqw8Pab",
        "outputId": "9cae6c7f-e3a8-467c-9454-1f4f4d7640fb"
      },
      "outputs": [],
      "source": [
        "print(hist[0][length-1])\n",
        "print(data[length-1])"
      ]
    },
    {
      "cell_type": "code",
      "execution_count": null,
      "metadata": {},
      "outputs": [],
      "source": [
        "print(hist[1])"
      ]
    },
    {
      "cell_type": "markdown",
      "metadata": {
        "id": "TGdJnj718Pab"
      },
      "source": [
        "o último ponto do exemplo de treino 1 (hist\\[1\\]) é a rotulação do exemplo de treino 0 e o elemento length do dado original. double check:"
      ]
    },
    {
      "cell_type": "code",
      "execution_count": null,
      "metadata": {
        "colab": {
          "base_uri": "https://localhost:8080/"
        },
        "id": "O9w4yFkS8Pac",
        "outputId": "0495288f-3bc6-4992-807c-06b430e00883"
      },
      "outputs": [],
      "source": [
        "print(hist[1][length-1])\n",
        "print(data[length])\n",
        "print(target[0])"
      ]
    },
    {
      "cell_type": "code",
      "execution_count": null,
      "metadata": {
        "colab": {
          "base_uri": "https://localhost:8080/"
        },
        "id": "7VHF0fNA8Pac",
        "outputId": "e631a7b4-7ece-4dd1-c4db-133438098860"
      },
      "outputs": [],
      "source": [
        "print(type(hist), type(target))"
      ]
    },
    {
      "cell_type": "code",
      "execution_count": null,
      "metadata": {
        "id": "penndo6n8Pad"
      },
      "outputs": [],
      "source": [
        "#convertendo de lista para array\n",
        "hist = np.array(hist)\n",
        "target = np.array(target)"
      ]
    },
    {
      "cell_type": "code",
      "execution_count": null,
      "metadata": {
        "colab": {
          "base_uri": "https://localhost:8080/"
        },
        "id": "0-iZDlvK8Pad",
        "outputId": "893b09b0-806f-4760-d763-d4f8cb9fa158"
      },
      "outputs": [],
      "source": [
        "print(type(hist), type(target))"
      ]
    },
    {
      "cell_type": "code",
      "execution_count": null,
      "metadata": {
        "colab": {
          "base_uri": "https://localhost:8080/"
        },
        "id": "y3hCFL6c8Pae",
        "outputId": "1985e6ba-39da-42ed-ec71-8f9147373acb"
      },
      "outputs": [],
      "source": [
        "hist.shape"
      ]
    },
    {
      "cell_type": "code",
      "execution_count": null,
      "metadata": {
        "colab": {
          "base_uri": "https://localhost:8080/"
        },
        "id": "CuFBaYof8Pae",
        "outputId": "1e2613c5-a120-4b8c-d331-584cd7e2bc44"
      },
      "outputs": [],
      "source": [
        "target.shape"
      ]
    },
    {
      "cell_type": "code",
      "execution_count": null,
      "metadata": {
        "colab": {
          "base_uri": "https://localhost:8080/"
        },
        "id": "6Ch1eS798Pae",
        "outputId": "9cafed07-59e3-4452-a282-50e5571c5896"
      },
      "outputs": [],
      "source": [
        "target = target.reshape(-1,1)\n",
        "target.shape"
      ]
    },
    {
      "cell_type": "code",
      "execution_count": null,
      "metadata": {
        "id": "8y3UiuP2OYBY"
      },
      "outputs": [],
      "source": [
        "#Forma correta de normalizar com MinMax (fazendo a divisão entre treino e validação)\n",
        "\n",
        "valued=int(hist.shape[0]*9/10)\n",
        "\n",
        "X_train = hist[:valued,:]\n",
        "X_val = hist[valued:,:]\n",
        "\n",
        "y_train = target[:valued,:]\n",
        "y_val = target[valued:,:]\n",
        "\n",
        "##Normalizando...\n",
        "from sklearn.preprocessing import MinMaxScaler\n",
        "sc = MinMaxScaler()\n",
        "sc.fit(X_train)\n",
        "X_train = sc.transform(X_train)\n",
        "X_val = sc.transform(X_val)\n",
        "\n",
        "X_train = X_train.reshape((len(X_train), length, 1)) #array 3d (entrada do LSTM). A terceira dimensão tem apenas 1 feature.\n",
        "X_val = X_val.reshape((len(X_val), length, 1))\n",
        "\n",
        "sc.fit(y_train)\n",
        "y_train = sc.transform(y_train)\n",
        "y_val = sc.transform(y_val)\n",
        "\n"
      ]
    },
    {
      "cell_type": "code",
      "execution_count": null,
      "metadata": {
        "colab": {
          "base_uri": "https://localhost:8080/"
        },
        "id": "At2mLcbPUJb9",
        "outputId": "dbcef8e9-f176-42d6-df36-926e46efe640"
      },
      "outputs": [],
      "source": [
        "X_train.shape"
      ]
    },
    {
      "cell_type": "markdown",
      "metadata": {
        "id": "qyTSmBQM8Pah"
      },
      "source": [
        "## Construindo a rede neural"
      ]
    },
    {
      "cell_type": "code",
      "execution_count": null,
      "metadata": {
        "id": "Fq6X3kGz8Pah"
      },
      "outputs": [],
      "source": [
        "import tensorflow as tf\n",
        "from tensorflow.keras.models import Sequential\n",
        "from tensorflow.keras.layers import LSTM\n",
        "from tensorflow.keras.layers import SimpleRNN\n",
        "from tensorflow.keras.layers import Dropout\n",
        "from tensorflow.keras.layers import Dense\n",
        "from tensorflow.keras.layers import Dropout\n",
        "from tensorflow.keras.callbacks import ModelCheckpoint\n"
      ]
    },
    {
      "cell_type": "code",
      "execution_count": null,
      "metadata": {
        "colab": {
          "base_uri": "https://localhost:8080/"
        },
        "id": "n_H_2zEe8Pai",
        "outputId": "3f638c28-55b3-409d-8eec-2e5e63dfb2a7"
      },
      "outputs": [],
      "source": [
        "model = tf.keras.Sequential()\n",
        "\n",
        "#model.add(SimpleRNN(25, return_sequences=True, input_shape=(length,1)))\n",
        "model.add(SimpleRNN(25, input_shape=(length,1)))\n",
        "\n",
        "model.add(Dense(1))\n",
        "\n",
        "model.summary()"
      ]
    },
    {
      "cell_type": "markdown",
      "metadata": {
        "id": "FSzoM42Y8Pai"
      },
      "source": [
        "Criamos um modelo com 1 camada de RNN e 1 camada densa de saída. Compilando e treinando o método..."
      ]
    },
    {
      "cell_type": "code",
      "execution_count": null,
      "metadata": {
        "id": "v7Rmzuls8Pai"
      },
      "outputs": [],
      "source": [
        "model.compile(optimizer='adam', loss='mean_squared_error', metrics=['mae'])\n",
        "#checkpoint = ModelCheckpoint(\"best\", monitor='val_loss', verbose=1, save_best_only=True, mode='auto', period=1)\n"
      ]
    },
    {
      "cell_type": "code",
      "execution_count": null,
      "metadata": {
        "colab": {
          "base_uri": "https://localhost:8080/"
        },
        "id": "DZwKlb418Paj",
        "outputId": "75ae0239-dc62-4b1c-e9c0-7a2d29c188c6"
      },
      "outputs": [],
      "source": [
        "#history = model.fit(X_train, y_train, epochs=30, validation_data=(X_val, y_val),  batch_size=32,  callbacks=[checkpoint])\n",
        "history = model.fit(X_train, y_train, epochs=30, validation_data=(X_val, y_val),  batch_size=32)"
      ]
    },
    {
      "cell_type": "markdown",
      "metadata": {
        "id": "e0_npmJX8Paj"
      },
      "source": [
        "\n",
        "Vamos visualizar os erros de treino e validação:\n",
        "\n"
      ]
    },
    {
      "cell_type": "code",
      "execution_count": null,
      "metadata": {
        "colab": {
          "base_uri": "https://localhost:8080/",
          "height": 718
        },
        "id": "2gtfA-hB8Pak",
        "outputId": "5eb20622-c77b-41fd-cdb5-ef622d4c7c49"
      },
      "outputs": [],
      "source": [
        "loss = history.history['loss']\n",
        "val_loss=history.history['val_loss']\n",
        "epoch_count = range(1, len(loss) + 1)\n",
        "plt.figure(figsize=(12,8))\n",
        "plt.plot(epoch_count, loss, 'r--')\n",
        "plt.plot(epoch_count, val_loss,  )\n",
        "plt.legend(['Training Loss', 'Validation Loss'])\n",
        "\n",
        "plt.xlabel('Epoch')\n",
        "plt.ylabel('Loss')\n",
        "plt.show()"
      ]
    },
    {
      "cell_type": "markdown",
      "metadata": {
        "id": "oumdAWzzWBe5"
      },
      "source": [
        "Vamos fazer as predições:"
      ]
    },
    {
      "cell_type": "code",
      "execution_count": null,
      "metadata": {
        "colab": {
          "base_uri": "https://localhost:8080/"
        },
        "id": "_eDs0M2w8Pak",
        "outputId": "874744a3-cfd8-4cfc-bcfc-85a21e460f06"
      },
      "outputs": [],
      "source": [
        "pred = model.predict(X_val)\n",
        "#print(np.hstack((pred, y_val)))\n"
      ]
    },
    {
      "cell_type": "code",
      "execution_count": null,
      "metadata": {
        "colab": {
          "base_uri": "https://localhost:8080/",
          "height": 716
        },
        "id": "qic0Aupu8Pak",
        "outputId": "ac905031-d6a3-44f0-f902-e6fc35916b49"
      },
      "outputs": [],
      "source": [
        "plt.figure(figsize=(12,8))\n",
        "plt.plot(y_val, color='blue', label='Real')\n",
        "plt.plot(pred, color='red', label='Prediction')\n",
        "plt.title('Preço')\n",
        "plt.legend()\n",
        "plt.show()"
      ]
    },
    {
      "cell_type": "markdown",
      "metadata": {
        "id": "a0PcLCaj8Pal"
      },
      "source": [
        "O modelo parece estar bem ajustado. Vamos verificar o valor real (sem normalização):"
      ]
    },
    {
      "cell_type": "code",
      "execution_count": null,
      "metadata": {
        "id": "ycWDhe-M8Pal"
      },
      "outputs": [],
      "source": [
        "pred_transformed = sc.inverse_transform(pred)\n",
        "y_val_transformed = sc.inverse_transform(y_val)"
      ]
    },
    {
      "cell_type": "code",
      "execution_count": null,
      "metadata": {
        "colab": {
          "base_uri": "https://localhost:8080/",
          "height": 716
        },
        "id": "jGUI87Ce8Pal",
        "outputId": "e93fca71-01f7-43c5-ca85-6866ee22eaa0"
      },
      "outputs": [],
      "source": [
        "plt.figure(figsize=(12,8))\n",
        "plt.plot(y_val_transformed, color='blue', label='Real')\n",
        "plt.plot(pred_transformed, color='red', label='Prediction')\n",
        "plt.title('Preço real')\n",
        "plt.legend()\n",
        "plt.show()"
      ]
    },
    {
      "cell_type": "markdown",
      "metadata": {},
      "source": [
        "**Dados do CSV Milk:**"
      ]
    },
    {
      "cell_type": "code",
      "execution_count": 6,
      "metadata": {},
      "outputs": [
        {
          "data": {
            "text/plain": [
              "(25925, 9)"
            ]
          },
          "execution_count": 6,
          "metadata": {},
          "output_type": "execute_result"
        }
      ],
      "source": [
        "df_milk = pd.read_csv(\"DLRedesRecorrentes/milk.csv\", parse_dates=[\"Date\"], index_col=\"Date\")\n",
        "df_milk.shape"
      ]
    },
    {
      "cell_type": "code",
      "execution_count": 7,
      "metadata": {},
      "outputs": [
        {
          "data": {
            "text/html": [
              "<div>\n",
              "<style scoped>\n",
              "    .dataframe tbody tr th:only-of-type {\n",
              "        vertical-align: middle;\n",
              "    }\n",
              "\n",
              "    .dataframe tbody tr th {\n",
              "        vertical-align: top;\n",
              "    }\n",
              "\n",
              "    .dataframe thead th {\n",
              "        text-align: right;\n",
              "    }\n",
              "</style>\n",
              "<table border=\"1\" class=\"dataframe\">\n",
              "  <thead>\n",
              "    <tr style=\"text-align: right;\">\n",
              "      <th></th>\n",
              "      <th>AnEar</th>\n",
              "      <th>lactation</th>\n",
              "      <th>dim</th>\n",
              "      <th>milk_production</th>\n",
              "      <th>MilkShif</th>\n",
              "      <th>Cond</th>\n",
              "      <th>Dur</th>\n",
              "      <th>Peak</th>\n",
              "      <th>dim2</th>\n",
              "    </tr>\n",
              "    <tr>\n",
              "      <th>Date</th>\n",
              "      <th></th>\n",
              "      <th></th>\n",
              "      <th></th>\n",
              "      <th></th>\n",
              "      <th></th>\n",
              "      <th></th>\n",
              "      <th></th>\n",
              "      <th></th>\n",
              "      <th></th>\n",
              "    </tr>\n",
              "  </thead>\n",
              "  <tbody>\n",
              "    <tr>\n",
              "      <th>2023-01-09</th>\n",
              "      <td>123</td>\n",
              "      <td>4</td>\n",
              "      <td>1</td>\n",
              "      <td>11.5</td>\n",
              "      <td>11.50</td>\n",
              "      <td>5.420</td>\n",
              "      <td>276.0</td>\n",
              "      <td>6.7</td>\n",
              "      <td>1</td>\n",
              "    </tr>\n",
              "    <tr>\n",
              "      <th>2023-01-10</th>\n",
              "      <td>123</td>\n",
              "      <td>4</td>\n",
              "      <td>2</td>\n",
              "      <td>48.4</td>\n",
              "      <td>24.20</td>\n",
              "      <td>4.945</td>\n",
              "      <td>384.0</td>\n",
              "      <td>15.0</td>\n",
              "      <td>2</td>\n",
              "    </tr>\n",
              "    <tr>\n",
              "      <th>2023-01-11</th>\n",
              "      <td>123</td>\n",
              "      <td>4</td>\n",
              "      <td>3</td>\n",
              "      <td>66.4</td>\n",
              "      <td>33.20</td>\n",
              "      <td>5.060</td>\n",
              "      <td>672.0</td>\n",
              "      <td>15.5</td>\n",
              "      <td>3</td>\n",
              "    </tr>\n",
              "    <tr>\n",
              "      <th>2023-01-12</th>\n",
              "      <td>123</td>\n",
              "      <td>4</td>\n",
              "      <td>4</td>\n",
              "      <td>57.1</td>\n",
              "      <td>28.55</td>\n",
              "      <td>4.940</td>\n",
              "      <td>354.0</td>\n",
              "      <td>16.4</td>\n",
              "      <td>4</td>\n",
              "    </tr>\n",
              "    <tr>\n",
              "      <th>2023-01-13</th>\n",
              "      <td>123</td>\n",
              "      <td>4</td>\n",
              "      <td>5</td>\n",
              "      <td>78.5</td>\n",
              "      <td>39.25</td>\n",
              "      <td>5.055</td>\n",
              "      <td>396.0</td>\n",
              "      <td>17.0</td>\n",
              "      <td>5</td>\n",
              "    </tr>\n",
              "  </tbody>\n",
              "</table>\n",
              "</div>"
            ],
            "text/plain": [
              "            AnEar  lactation  dim  milk_production  MilkShif   Cond    Dur  \\\n",
              "Date                                                                         \n",
              "2023-01-09    123          4    1             11.5     11.50  5.420  276.0   \n",
              "2023-01-10    123          4    2             48.4     24.20  4.945  384.0   \n",
              "2023-01-11    123          4    3             66.4     33.20  5.060  672.0   \n",
              "2023-01-12    123          4    4             57.1     28.55  4.940  354.0   \n",
              "2023-01-13    123          4    5             78.5     39.25  5.055  396.0   \n",
              "\n",
              "            Peak  dim2  \n",
              "Date                    \n",
              "2023-01-09   6.7     1  \n",
              "2023-01-10  15.0     2  \n",
              "2023-01-11  15.5     3  \n",
              "2023-01-12  16.4     4  \n",
              "2023-01-13  17.0     5  "
            ]
          },
          "execution_count": 7,
          "metadata": {},
          "output_type": "execute_result"
        }
      ],
      "source": [
        "df_milk.head()"
      ]
    },
    {
      "cell_type": "code",
      "execution_count": 8,
      "metadata": {},
      "outputs": [
        {
          "data": {
            "text/plain": [
              "(25849, 2)"
            ]
          },
          "execution_count": 8,
          "metadata": {},
          "output_type": "execute_result"
        }
      ],
      "source": [
        "df_milk.drop('lactation', axis=1, inplace=True)\n",
        "df_milk.drop('dim', axis=1, inplace=True)\n",
        "df_milk.drop('MilkShif', axis=1, inplace=True)\n",
        "df_milk.drop('Cond', axis=1, inplace=True)\n",
        "df_milk.drop('Dur', axis=1, inplace=True)\n",
        "df_milk.drop('Peak', axis=1, inplace=True)\n",
        "df_milk.drop('dim2', axis=1, inplace=True)\n",
        "\n",
        "# Dropa valores NA\n",
        "df_milk.dropna(how='any', axis=0, inplace=True)\n",
        "\n",
        "df_milk.shape"
      ]
    },
    {
      "cell_type": "code",
      "execution_count": 9,
      "metadata": {},
      "outputs": [
        {
          "data": {
            "text/html": [
              "<div>\n",
              "<style scoped>\n",
              "    .dataframe tbody tr th:only-of-type {\n",
              "        vertical-align: middle;\n",
              "    }\n",
              "\n",
              "    .dataframe tbody tr th {\n",
              "        vertical-align: top;\n",
              "    }\n",
              "\n",
              "    .dataframe thead th {\n",
              "        text-align: right;\n",
              "    }\n",
              "</style>\n",
              "<table border=\"1\" class=\"dataframe\">\n",
              "  <thead>\n",
              "    <tr style=\"text-align: right;\">\n",
              "      <th></th>\n",
              "      <th>AnEar</th>\n",
              "      <th>milk_production</th>\n",
              "    </tr>\n",
              "    <tr>\n",
              "      <th>Date</th>\n",
              "      <th></th>\n",
              "      <th></th>\n",
              "    </tr>\n",
              "  </thead>\n",
              "  <tbody>\n",
              "    <tr>\n",
              "      <th>2023-12-13</th>\n",
              "      <td>9977</td>\n",
              "      <td>72.8</td>\n",
              "    </tr>\n",
              "    <tr>\n",
              "      <th>2023-12-14</th>\n",
              "      <td>9977</td>\n",
              "      <td>73.0</td>\n",
              "    </tr>\n",
              "    <tr>\n",
              "      <th>2023-12-15</th>\n",
              "      <td>9977</td>\n",
              "      <td>70.9</td>\n",
              "    </tr>\n",
              "    <tr>\n",
              "      <th>2023-12-16</th>\n",
              "      <td>9977</td>\n",
              "      <td>70.6</td>\n",
              "    </tr>\n",
              "    <tr>\n",
              "      <th>2023-12-17</th>\n",
              "      <td>9977</td>\n",
              "      <td>67.7</td>\n",
              "    </tr>\n",
              "  </tbody>\n",
              "</table>\n",
              "</div>"
            ],
            "text/plain": [
              "            AnEar  milk_production\n",
              "Date                              \n",
              "2023-12-13   9977             72.8\n",
              "2023-12-14   9977             73.0\n",
              "2023-12-15   9977             70.9\n",
              "2023-12-16   9977             70.6\n",
              "2023-12-17   9977             67.7"
            ]
          },
          "execution_count": 9,
          "metadata": {},
          "output_type": "execute_result"
        }
      ],
      "source": [
        "df_milk.tail()"
      ]
    },
    {
      "cell_type": "markdown",
      "metadata": {},
      "source": [
        "Vamos verificar os dados temporais plotados."
      ]
    },
    {
      "cell_type": "code",
      "execution_count": 10,
      "metadata": {},
      "outputs": [
        {
          "data": {
            "text/plain": [
              "Text(0.5, 1.0, 'Produção de Leite')"
            ]
          },
          "execution_count": 10,
          "metadata": {},
          "output_type": "execute_result"
        },
        {
          "data": {
            "image/png": "[encoded data removed]",
            "text/plain": [
              "<Figure size 1200x600 with 1 Axes>"
            ]
          },
          "metadata": {},
          "output_type": "display_data"
        }
      ],
      "source": [
        "plt.figure(figsize=(12,6))\n",
        "sns.lineplot(x=df_milk.index, y=\"milk_production\", data=df_milk).set_title(\"Produção de Leite\")"
      ]
    },
    {
      "cell_type": "markdown",
      "metadata": {},
      "source": [
        "Armotizando a visualização:"
      ]
    },
    {
      "cell_type": "code",
      "execution_count": 11,
      "metadata": {},
      "outputs": [
        {
          "data": {
            "text/plain": [
              "Text(0.5, 0.9, 'Sub-amostragem para intervalos de 10 dias')"
            ]
          },
          "execution_count": 11,
          "metadata": {},
          "output_type": "execute_result"
        },
        {
          "data": {
            "image/png": "[encoded data removed]",
            "text/plain": [
              "<Figure size 1200x600 with 1 Axes>"
            ]
          },
          "metadata": {},
          "output_type": "display_data"
        }
      ],
      "source": [
        "df_milk['milk_production'].resample('10D').mean().plot(figsize=(12,6))\n",
        "plt.figtext(x=.5,y=0.9, s=\"Sub-amostragem para intervalos de 10 dias\", fontsize=20, ha='center')"
      ]
    },
    {
      "cell_type": "markdown",
      "metadata": {},
      "source": [
        "# Model"
      ]
    },
    {
      "cell_type": "markdown",
      "metadata": {},
      "source": [
        "Redes recorrentes são modelos poderosos para tratar sequências, pois eles mantêm o estado interno sobre as variações anteriores. Tais redes requerem uma matriz 3d com formato: (num_exemplos_treino, timesteps, input_dim).\n",
        "\n",
        "Vamos construir um modelo usando timesteps=50 valores anteriores para prever o próximo valor. Como estamos usando apenas uma variável, input_dim=1."
      ]
    },
    {
      "cell_type": "markdown",
      "metadata": {},
      "source": [
        "## Pré-processamento dos dados\n",
        "Reorganizando os dados de forma que uma sequencia de valores dos 50 dias anteriores seja usada para prever o próximo dia. Os valores também serão normalizados entre 0 e 1."
      ]
    },
    {
      "cell_type": "code",
      "execution_count": 12,
      "metadata": {},
      "outputs": [
        {
          "data": {
            "text/plain": [
              "Date\n",
              "2023-01-09    11.5\n",
              "2023-01-10    48.4\n",
              "2023-01-11    66.4\n",
              "2023-01-12    57.1\n",
              "2023-01-13    78.5\n",
              "              ... \n",
              "2023-12-13    72.8\n",
              "2023-12-14    73.0\n",
              "2023-12-15    70.9\n",
              "2023-12-16    70.6\n",
              "2023-12-17    67.7\n",
              "Name: milk_production, Length: 25849, dtype: float64"
            ]
          },
          "execution_count": 12,
          "metadata": {},
          "output_type": "execute_result"
        }
      ],
      "source": [
        "data_milk = df_milk.iloc[:, 1]\n",
        "data_milk\n"
      ]
    },
    {
      "cell_type": "code",
      "execution_count": 13,
      "metadata": {},
      "outputs": [
        {
          "name": "stderr",
          "output_type": "stream",
          "text": [
            "C:\\Users\\Lucri\\AppData\\Local\\Temp\\ipykernel_44080\\3436550985.py:7: FutureWarning: Series.__getitem__ treating keys as positions is deprecated. In a future version, integer keys will always be treated as labels (consistent with DataFrame behavior). To access a value by position, use `ser.iloc[pos]`\n",
            "  y = data_milk[i+length]\n"
          ]
        }
      ],
      "source": [
        "hist_milk = []\n",
        "target_milk = []\n",
        "length = 20\n",
        "\n",
        "for i in range(len(data_milk)-length):\n",
        "    x = data_milk[i:i+length]\n",
        "    y = data_milk[i+length]\n",
        "\n",
        "    hist_milk.append(x)\n",
        "    target_milk.append(y)"
      ]
    },
    {
      "cell_type": "code",
      "execution_count": 14,
      "metadata": {},
      "outputs": [
        {
          "name": "stdout",
          "output_type": "stream",
          "text": [
            "20\n",
            "25829\n",
            "25829\n"
          ]
        }
      ],
      "source": [
        "print(len(hist_milk[0]))\n",
        "print(len(hist_milk))\n",
        "print(len(target_milk))"
      ]
    },
    {
      "cell_type": "code",
      "execution_count": 15,
      "metadata": {},
      "outputs": [
        {
          "name": "stdout",
          "output_type": "stream",
          "text": [
            "109.0\n",
            "109.0\n"
          ]
        },
        {
          "name": "stderr",
          "output_type": "stream",
          "text": [
            "C:\\Users\\Lucri\\AppData\\Local\\Temp\\ipykernel_44080\\3739301336.py:1: FutureWarning: Series.__getitem__ treating keys as positions is deprecated. In a future version, integer keys will always be treated as labels (consistent with DataFrame behavior). To access a value by position, use `ser.iloc[pos]`\n",
            "  print(hist_milk[0][length-1])\n",
            "C:\\Users\\Lucri\\AppData\\Local\\Temp\\ipykernel_44080\\3739301336.py:2: FutureWarning: Series.__getitem__ treating keys as positions is deprecated. In a future version, integer keys will always be treated as labels (consistent with DataFrame behavior). To access a value by position, use `ser.iloc[pos]`\n",
            "  print(data_milk[length-1])\n"
          ]
        }
      ],
      "source": [
        "print(hist_milk[0][length-1])\n",
        "print(data_milk[length-1])"
      ]
    },
    {
      "cell_type": "code",
      "execution_count": 16,
      "metadata": {},
      "outputs": [
        {
          "name": "stdout",
          "output_type": "stream",
          "text": [
            "116.0\n",
            "116.0\n",
            "116.0\n"
          ]
        },
        {
          "name": "stderr",
          "output_type": "stream",
          "text": [
            "C:\\Users\\Lucri\\AppData\\Local\\Temp\\ipykernel_44080\\3073688783.py:1: FutureWarning: Series.__getitem__ treating keys as positions is deprecated. In a future version, integer keys will always be treated as labels (consistent with DataFrame behavior). To access a value by position, use `ser.iloc[pos]`\n",
            "  print(hist_milk[1][length-1])\n",
            "C:\\Users\\Lucri\\AppData\\Local\\Temp\\ipykernel_44080\\3073688783.py:2: FutureWarning: Series.__getitem__ treating keys as positions is deprecated. In a future version, integer keys will always be treated as labels (consistent with DataFrame behavior). To access a value by position, use `ser.iloc[pos]`\n",
            "  print(data_milk[length])\n"
          ]
        },
        {
          "ename": "NameError",
          "evalue": "name 'data' is not defined",
          "output_type": "error",
          "traceback": [
            "\u001b[1;31m---------------------------------------------------------------------------\u001b[0m",
            "\u001b[1;31mNameError\u001b[0m                                 Traceback (most recent call last)",
            "Cell \u001b[1;32mIn[16], line 4\u001b[0m\n\u001b[0;32m      2\u001b[0m \u001b[38;5;28mprint\u001b[39m(data_milk[length])\n\u001b[0;32m      3\u001b[0m \u001b[38;5;28mprint\u001b[39m(target_milk[\u001b[38;5;241m0\u001b[39m])\n\u001b[1;32m----> 4\u001b[0m \u001b[38;5;28mprint\u001b[39m(\u001b[43mdata\u001b[49m\u001b[38;5;241m.\u001b[39mshape)\n",
            "\u001b[1;31mNameError\u001b[0m: name 'data' is not defined"
          ]
        }
      ],
      "source": [
        "print(hist_milk[1][length-1])\n",
        "print(data_milk[length])\n",
        "print(target_milk[0])\n",
        "print(data.shape)"
      ]
    },
    {
      "cell_type": "code",
      "execution_count": null,
      "metadata": {},
      "outputs": [],
      "source": [
        "#convertendo de lista para array\n",
        "hist_milk = np.array(hist_milk)\n",
        "target_milk = np.array(target_milk)"
      ]
    },
    {
      "cell_type": "code",
      "execution_count": null,
      "metadata": {},
      "outputs": [],
      "source": [
        "hist_milk.shape\n",
        "print(hist_milk)\n",
        "print(hist_milk.shape)"
      ]
    },
    {
      "cell_type": "code",
      "execution_count": null,
      "metadata": {},
      "outputs": [],
      "source": [
        "target_milk.shape"
      ]
    },
    {
      "cell_type": "code",
      "execution_count": null,
      "metadata": {},
      "outputs": [],
      "source": [
        "target_milk = target_milk.reshape(-1,1)\n",
        "target_milk.shape\n",
        "target_milk"
      ]
    },
    {
      "cell_type": "code",
      "execution_count": null,
      "metadata": {},
      "outputs": [],
      "source": [
        "#Forma correta de normalizar com MinMax (fazendo a divisão entre treino e validação)\n",
        "\n",
        "total = len(hist_milk)\n",
        "train_size = int(total * 0.6)\n",
        "val_size = int(total * 0.2)\n",
        "\n",
        "train_indices = range(0, train_size)\n",
        "val_indices = range(train_size, train_size + val_size)\n",
        "test_indices = range(train_size + val_size, total)\n",
        "\n",
        "\n",
        "X_train = hist_milk[train_indices]\n",
        "X_val = hist_milk[val_indices]\n",
        "X_test = hist_milk[test_indices]\n",
        "\n",
        "y_train = target_milk[train_indices]\n",
        "y_val = target_milk[val_indices]\n",
        "y_test = target_milk[test_indices]\n",
        "\n",
        "##Normalizando...\n",
        "from sklearn.preprocessing import MinMaxScaler\n",
        "sc = MinMaxScaler()\n",
        "sc.fit(X_train)\n",
        "\n",
        "\n",
        "X_train = sc.transform(X_train)\n",
        "X_val = sc.transform(X_val)\n",
        "\n",
        "X_train = X_train.reshape((len(X_train), length, 1)) #array 3d (entrada do LSTM). A terceira dimensão tem apenas 1 feature.\n",
        "X_val = X_val.reshape((len(X_val), length, 1))\n",
        "\n",
        "sc.fit(y_train)\n",
        "y_train = sc.transform(y_train)\n",
        "y_val = sc.transform(y_val)"
      ]
    },
    {
      "cell_type": "code",
      "execution_count": null,
      "metadata": {},
      "outputs": [],
      "source": [
        "X_train.shape"
      ]
    },
    {
      "cell_type": "code",
      "execution_count": null,
      "metadata": {},
      "outputs": [],
      "source": [
        "print('treinamento: ', (X_train.shape[0] / len(hist_milk)))\n",
        "print('validação: ', (X_val.shape[0] / len(hist_milk)))\n",
        "print('teste: ', (X_test.shape[0] / len(hist_milk)))"
      ]
    },
    {
      "cell_type": "markdown",
      "metadata": {},
      "source": [
        "## Construindo a rede neural"
      ]
    },
    {
      "cell_type": "code",
      "execution_count": null,
      "metadata": {},
      "outputs": [],
      "source": [
        "import tensorflow as tf\n",
        "from keras.models import Sequential\n",
        "from keras.layers import LSTM\n",
        "from keras.layers import SimpleRNN\n",
        "from keras.layers import Dropout\n",
        "from keras.layers import Dense\n",
        "from keras.layers import Dropout\n",
        "from keras.callbacks import ModelCheckpoint\n"
      ]
    },
    {
      "cell_type": "code",
      "execution_count": null,
      "metadata": {},
      "outputs": [],
      "source": [
        "model = tf.keras.Sequential()\n",
        "\n",
        "#model.add(SimpleRNN(25, return_sequences=True, input_shape=(length,1)))\n",
        "model.add(SimpleRNN(25, input_shape=(length,1)))\n",
        "\n",
        "model.add(Dense(1))\n",
        "\n",
        "model.summary()"
      ]
    },
    {
      "cell_type": "markdown",
      "metadata": {},
      "source": [
        "Criamos um modelo com 1 camada de RNN e 1 camada densa de saída. Compilando e treinando o método..."
      ]
    },
    {
      "cell_type": "code",
      "execution_count": null,
      "metadata": {},
      "outputs": [],
      "source": [
        "model.compile(optimizer='adam', loss='mean_squared_error', metrics=['mae'])\n",
        "#checkpoint = ModelCheckpoint(\"best\", monitor='val_loss', verbose=1, save_best_only=True, mode='auto', period=1)\n"
      ]
    },
    {
      "cell_type": "code",
      "execution_count": null,
      "metadata": {},
      "outputs": [],
      "source": [
        "#history = model.fit(X_train, y_train, epochs=30, validation_data=(X_val, y_val),  batch_size=32,  callbacks=[checkpoint])\n",
        "history = model.fit(X_train, y_train, epochs=30, validation_data=(X_val, y_val),  batch_size=32)"
      ]
    },
    {
      "cell_type": "markdown",
      "metadata": {},
      "source": [
        "\n",
        "Vamos visualizar os erros de treino e validação:\n",
        "\n"
      ]
    },
    {
      "cell_type": "code",
      "execution_count": null,
      "metadata": {},
      "outputs": [],
      "source": [
        "loss = history.history['loss']\n",
        "val_loss=history.history['val_loss']\n",
        "epoch_count = range(1, len(loss) + 1)\n",
        "plt.figure(figsize=(12,8))\n",
        "plt.plot(epoch_count, loss, 'r--')\n",
        "plt.plot(epoch_count, val_loss,  )\n",
        "plt.legend(['Training Loss', 'Validation Loss'])\n",
        "\n",
        "plt.xlabel('Epoch')\n",
        "plt.ylabel('Loss')\n",
        "plt.show()"
      ]
    },
    {
      "cell_type": "markdown",
      "metadata": {},
      "source": [
        "Vamos fazer as predições:"
      ]
    },
    {
      "cell_type": "code",
      "execution_count": null,
      "metadata": {},
      "outputs": [],
      "source": [
        "pred = model.predict(X_val)\n",
        "#print(np.hstack((pred, y_val)))\n"
      ]
    },
    {
      "cell_type": "code",
      "execution_count": null,
      "metadata": {},
      "outputs": [],
      "source": [
        "plt.figure(figsize=(12,8))\n",
        "plt.plot(y_val, color='blue', label='Real')\n",
        "plt.plot(pred, color='red', label='Prediction')\n",
        "plt.title('Preço')\n",
        "plt.legend()\n",
        "plt.show()"
      ]
    },
    {
      "cell_type": "markdown",
      "metadata": {},
      "source": [
        "O modelo parece estar bem ajustado. Vamos verificar o valor real (sem normalização):"
      ]
    },
    {
      "cell_type": "code",
      "execution_count": null,
      "metadata": {},
      "outputs": [],
      "source": [
        "pred_transformed = sc.inverse_transform(pred)\n",
        "y_val_transformed = sc.inverse_transform(y_val)"
      ]
    },
    {
      "cell_type": "code",
      "execution_count": null,
      "metadata": {},
      "outputs": [],
      "source": [
        "plt.figure(figsize=(12,8))\n",
        "plt.plot(y_val_transformed, color='blue', label='Real')\n",
        "plt.plot(pred_transformed, color='red', label='Prediction')\n",
        "plt.title('Preço real')\n",
        "plt.legend()\n",
        "plt.show()"
      ]
    },
    {
      "cell_type": "markdown",
      "metadata": {},
      "source": [
        "Fazendo a divisão dos dados de treinamento, validação e teste para cada instância:"
      ]
    },
    {
      "cell_type": "code",
      "execution_count": null,
      "metadata": {},
      "outputs": [],
      "source": [
        "def get_data(csv=\"RecurrentNeuralNetwork/milk.csv\", ratio1=0.6, ratio2=0.2):\n",
        "    df = pd.read_csv(csv)\n",
        "    df = df[[\"AnEar\", \"milk_production\", \"Date\"]]\n",
        "\n",
        "    dfs = {\"train\":[], \"val\":[], \"test\":[],}\n",
        "    for vaca in df[\"AnEar\"].unique():\n",
        "        df_vaca = df[df[\"AnEar\"]==vaca]\n",
        "        l1, l2 = int(ratio1 * len(df_vaca)), int(ratio2 * len(df_vaca))\n",
        "        dfs[\"train\"].append(df_vaca.iloc[0:l1,:])\n",
        "        dfs[\"val\"].append(df_vaca.iloc[l1:l1+l2,:])\n",
        "        dfs[\"test\"].append(df_vaca.iloc[l1+l2:,:])\n",
        "\n",
        "    df_train = pd.concat(dfs[\"train\"])\n",
        "    df_val = pd.concat(dfs[\"test\"])\n",
        "    df_test = pd.concat(dfs[\"val\"])\n",
        "\n",
        "    return df_train, df_val, df_test\n",
        "\n",
        "df_train, df_val, df_test = get_data()\n",
        "print(\"Tamanho do conjunto de total:\", df.shape)\n",
        "print(\"Tamanho do conjunto de treino:\", df_train.shape)\n",
        "print(\"Tamanho do conjunto de validação:\", df_val.shape)\n",
        "print(\"Tamanho do conjunto de teste:\", df_test.shape)"
      ]
    },
    {
      "cell_type": "code",
      "execution_count": null,
      "metadata": {},
      "outputs": [],
      "source": [
        "df_train['AnEar'].value_counts()"
      ]
    },
    {
      "cell_type": "markdown",
      "metadata": {},
      "source": [
        "o último ponto do exemplo de treino 1 (hist\\[1\\]) é a rotulação do exemplo de treino 0 e o elemento length do dado original. double check:"
      ]
    }
  ],
  "metadata": {
    "colab": {
      "provenance": []
    },
    "kernelspec": {
      "display_name": "Python 3 (ipykernel)",
      "language": "python",
      "name": "python3"
    },
    "language_info": {
      "codemirror_mode": {
        "name": "ipython",
        "version": 3
      },
      "file_extension": ".py",
      "mimetype": "text/x-python",
      "name": "python",
      "nbconvert_exporter": "python",
      "pygments_lexer": "ipython3",
      "version": "3.11.7"
    }
  },
  "nbformat": 4,
  "nbformat_minor": 0
}
