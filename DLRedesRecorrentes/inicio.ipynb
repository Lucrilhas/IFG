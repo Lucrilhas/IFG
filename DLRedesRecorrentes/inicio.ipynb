{
 "cells": [
  {
   "cell_type": "markdown",
   "metadata": {},
   "source": [
    "### Atividade - Redes Recorrentes"
   ]
  },
  {
   "cell_type": "code",
   "execution_count": 5,
   "metadata": {},
   "outputs": [],
   "source": [
    "import numpy as np\n",
    "import pandas as pd\n",
    "import matplotlib.pyplot as plt\n",
    "import seaborn as sns\n",
    "\n",
    "import tensorflow as tf\n",
    "from tensorflow.keras.models import Sequential\n",
    "from tensorflow.keras.layers import LSTM\n",
    "from tensorflow.keras.layers import SimpleRNN\n",
    "from tensorflow.keras.layers import Dropout\n",
    "from tensorflow.keras.layers import Dense\n",
    "from tensorflow.keras.layers import Dropout\n",
    "from tensorflow.keras.callbacks import ModelCheckpoint\n",
    "\n",
    "\n",
    "sns.set(style=\"darkgrid\", font_scale=1.5)\n",
    "root = r\"DLRedesRecorrentes/\""
   ]
  },
  {
   "cell_type": "code",
   "execution_count": null,
   "metadata": {},
   "outputs": [
    {
     "name": "stdout",
     "output_type": "stream",
     "text": [
      "       AnEar\n",
      "0        123\n",
      "1        123\n",
      "2        123\n",
      "3        123\n",
      "4        123\n",
      "...      ...\n",
      "25920   9977\n",
      "25921   9977\n",
      "25922   9977\n",
      "25923   9977\n",
      "25924   9977\n",
      "\n",
      "[25925 rows x 1 columns]\n"
     ]
    }
   ],
   "source": [
    "df = pd.read_csv(root+\"milk.csv\")\n",
    "df = df[[\"AnEar\", \"milk_production\", \"Date\"]]\n",
    "\n",
    "dfs = {}\n",
    "for vaca in df[\"AnEar\"].unique():\n",
    "    df_vaca = df[df[\"AnEar\"]==vaca]\n",
    "    # dfs[vaca] = {\n",
    "    #     \"\n",
    "    # }\n",
    "    print(df_vaca)\n",
    "    break\n",
    "\n",
    "# ratio1 = 0.6\n",
    "# ratio2 = 0.2\n",
    "\n",
    "# # Calculate the number of rows for each dataframe based on ratios\n",
    "# l1 = int(ratio1 * len(df))\n",
    "# l2 = int(ratio2 * len(df))\n",
    "\n",
    "# # Split the dataframe into three dataframes based on calculated lengths\n",
    "# df_train = df.iloc[0:l1,:]\n",
    "# df_val = df.iloc[l1:l1+l2,:]\n",
    "# df_test = df.iloc[l1+l2:,:]"
   ]
  },
  {
   "cell_type": "code",
   "execution_count": 18,
   "metadata": {},
   "outputs": [
    {
     "name": "stdout",
     "output_type": "stream",
     "text": [
      "(25925, 3)\n",
      "(15555, 3)\n",
      "(5185, 3)\n",
      "(5185, 3)\n"
     ]
    }
   ],
   "source": [
    "print(df.shape)\n",
    "print(df_train.shape)\n",
    "print(df_val.shape)\n",
    "print(df_test.shape)"
   ]
  },
  {
   "cell_type": "code",
   "execution_count": 17,
   "metadata": {},
   "outputs": [],
   "source": []
  }
 ],
 "metadata": {
  "kernelspec": {
   "display_name": ".venv",
   "language": "python",
   "name": "python3"
  },
  "language_info": {
   "codemirror_mode": {
    "name": "ipython",
    "version": 3
   },
   "file_extension": ".py",
   "mimetype": "text/x-python",
   "name": "python",
   "nbconvert_exporter": "python",
   "pygments_lexer": "ipython3",
   "version": "3.11.7"
  }
 },
 "nbformat": 4,
 "nbformat_minor": 2
}
