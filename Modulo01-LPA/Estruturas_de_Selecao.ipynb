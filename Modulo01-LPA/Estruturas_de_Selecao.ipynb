{
 "cells": [
  {
   "attachments": {},
   "cell_type": "markdown",
   "metadata": {},
   "source": [
    "### 01 - Conversão de Tempo"
   ]
  },
  {
   "cell_type": "code",
   "execution_count": 4,
   "metadata": {},
   "outputs": [
    {
     "name": "stdout",
     "output_type": "stream",
     "text": [
      "38:55:53\n"
     ]
    }
   ],
   "source": [
    "t = int(input())\n",
    "h = t//3600\n",
    "m = (t - h*3600)//60\n",
    "s = t - h*3600 - m*60\n",
    "print(f\"{h}:{m}:{s}\")"
   ]
  },
  {
   "attachments": {},
   "cell_type": "markdown",
   "metadata": {},
   "source": [
    "### 02 - Teste de Seleção 01"
   ]
  },
  {
   "cell_type": "code",
   "execution_count": 7,
   "metadata": {},
   "outputs": [
    {
     "name": "stdout",
     "output_type": "stream",
     "text": [
      "Valores aceitos\n"
     ]
    }
   ],
   "source": [
    "A, B, C, D = input().split(' ')\n",
    "A, B, C, D = int(A), int(B), int(C), int(D)\n",
    "\n",
    "if B > C and D > A and C+D > A+B and C>=0 and D>=0 and A%2 == 0:\n",
    "    print(\"Valores aceitos\")\n",
    "else:\n",
    "    print(\"Valores nao aceitos\")"
   ]
  },
  {
   "attachments": {},
   "cell_type": "markdown",
   "metadata": {},
   "source": [
    "### 03 - Fórmula de Bhaskara"
   ]
  },
  {
   "cell_type": "code",
   "execution_count": 21,
   "metadata": {},
   "outputs": [
    {
     "name": "stdout",
     "output_type": "stream",
     "text": [
      "R1 = -0.29788\n",
      "R2 = -1.71212\n"
     ]
    }
   ],
   "source": [
    "A, B, C = input().split(' ')\n",
    "A, B, C = float(A), float(B), float(C)\n",
    "d = (B*B) - 4 * A * C\n",
    "\n",
    "if d < 0 or A == 0:\n",
    "    print(\"Impossivel calcular\")\n",
    "else:\n",
    "    r1 = (-B + d**0.5)/(2*A)\n",
    "    r2 = (-B - d**0.5)/(2*A)\n",
    "    print(f\"R1 = {r1:.5f}\\nR2 = {r2:.5f}\")"
   ]
  },
  {
   "attachments": {},
   "cell_type": "markdown",
   "metadata": {},
   "source": [
    "### 04 - Intervalo"
   ]
  },
  {
   "cell_type": "code",
   "execution_count": 27,
   "metadata": {},
   "outputs": [
    {
     "name": "stdout",
     "output_type": "stream",
     "text": [
      "Intervalo [0,25]\n"
     ]
    }
   ],
   "source": [
    "x = float(input())\n",
    "if 0 <= x and x <= 25:\n",
    "    print(\"Intervalo [0,25]\")\n",
    "elif 25 < x and x <= 50:\n",
    "    print(\"Intervalo (25,50]\")\n",
    "elif 50 < x and x <= 75:\n",
    "    print(\"Intervalo (50,75]\")\n",
    "elif 75 < x and x <= 100:\n",
    "    print(\"Intervalo (75,100]\")\n",
    "else:\n",
    "    print(\"Fora de intervalo\")"
   ]
  },
  {
   "attachments": {},
   "cell_type": "markdown",
   "metadata": {},
   "source": [
    "### 05 - Coordenadas de um Ponto"
   ]
  },
  {
   "cell_type": "code",
   "execution_count": 32,
   "metadata": {},
   "outputs": [
    {
     "name": "stdout",
     "output_type": "stream",
     "text": [
      "Eixo Y\n"
     ]
    }
   ],
   "source": [
    "X, Y = input().split(' ')\n",
    "X, Y = float(X), float(Y)\n",
    "\n",
    "if X==0 and Y==0:\n",
    "    print(\"Origem\")\n",
    "elif X==0:\n",
    "    print(\"Eixo Y\")\n",
    "elif Y==0:\n",
    "    print(\"Eixo X\")\n",
    "\n",
    "elif X>0 and Y>0:\n",
    "    print(\"Q1\")\n",
    "elif X>0 and Y<0:\n",
    "    print(\"Q4\")\n",
    "elif X<0 and Y>0:\n",
    "    print(\"Q2\")\n",
    "elif X<0 and Y<0:\n",
    "    print(\"Q3\")\n"
   ]
  },
  {
   "attachments": {},
   "cell_type": "markdown",
   "metadata": {},
   "source": [
    "### 06 - Sort Simples"
   ]
  },
  {
   "cell_type": "code",
   "execution_count": 39,
   "metadata": {},
   "outputs": [
    {
     "name": "stdout",
     "output_type": "stream",
     "text": [
      "-14\n",
      "7\n",
      "21\n",
      "\n",
      "7\n",
      "21\n",
      "-14\n"
     ]
    }
   ],
   "source": [
    "A, B, C = input().split(' ')\n",
    "l = [int(A), int(B), int(C)]\n",
    "l.sort()\n",
    "for i in l:\n",
    "    print(i)\n",
    "print()\n",
    "print(A)\n",
    "print(B)\n",
    "print(C)\n"
   ]
  }
 ],
 "metadata": {
  "kernelspec": {
   "display_name": "base",
   "language": "python",
   "name": "python3"
  },
  "language_info": {
   "codemirror_mode": {
    "name": "ipython",
    "version": 3
   },
   "file_extension": ".py",
   "mimetype": "text/x-python",
   "name": "python",
   "nbconvert_exporter": "python",
   "pygments_lexer": "ipython3",
   "version": "3.10.8"
  },
  "orig_nbformat": 4
 },
 "nbformat": 4,
 "nbformat_minor": 2
}
