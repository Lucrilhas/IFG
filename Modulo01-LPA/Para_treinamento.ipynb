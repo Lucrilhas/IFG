{
 "cells": [
  {
   "cell_type": "markdown",
   "metadata": {},
   "source": [
    "### 01 - Idade em Dias"
   ]
  },
  {
   "cell_type": "code",
   "execution_count": null,
   "metadata": {
    "vscode": {
     "languageId": "plaintext"
    }
   },
   "outputs": [],
   "source": [
    "i = int(input())\n",
    "a = i//365\n",
    "m = (i-(a*365))//30\n",
    "d = i-(a*365)-(m*30)\n",
    "print(f\"{a} ano(s)\\n{m} mes(es)\\n{d} dia(s)\")"
   ]
  },
  {
   "cell_type": "markdown",
   "metadata": {},
   "source": [
    "### 02 - Lanche"
   ]
  },
  {
   "cell_type": "code",
   "execution_count": null,
   "metadata": {
    "vscode": {
     "languageId": "plaintext"
    }
   },
   "outputs": [],
   "source": [
    "c, q = input().split(\" \")\n",
    "q = int(q)\n",
    "if c == \"1\":\n",
    "    print(f\"Total: R$ {q*4.00:.2f}\")\n",
    "elif c == \"2\":\n",
    "    print(f\"Total: R$ {q*4.50:.2f}\")\n",
    "elif c == \"3\":\n",
    "    print(f\"Total: R$ {q*5.00:.2f}\")\n",
    "elif c == \"4\":\n",
    "    print(f\"Total: R$ {q*2.00:.2f}\")\n",
    "elif c == \"5\":\n",
    "    print(f\"Total: R$ {q*1.50:.2f}\")"
   ]
  },
  {
   "cell_type": "markdown",
   "metadata": {},
   "source": [
    "### 03 - Média 3"
   ]
  },
  {
   "cell_type": "code",
   "execution_count": null,
   "metadata": {
    "vscode": {
     "languageId": "plaintext"
    }
   },
   "outputs": [],
   "source": [
    "n1, n2, n3, n4 = input().split(\" \")\n",
    "n1, n2, n3, n4 = float(n1), float(n2), float(n3), float(n4)\n",
    "m = ((n1*2)+(n2*3)+(n3*4)+(n4*1))/10.0\n",
    "print(f\"Media: {m:.1f}\")\n",
    "if m >= 7.0:\n",
    "    print(\"Aluno aprovado.\")\n",
    "elif m < 5.0:\n",
    "    print(\"Aluno reprovado.\")\n",
    "else:\n",
    "    print(\"Aluno em exame.\")\n",
    "    nr = float(input())\n",
    "    print(f\"Nota do exame: {nr:.1f}\")\n",
    "    nf = (m+nr)/2.0\n",
    "    if nf >= 5.0:\n",
    "        print(\"Aluno aprovado.\")\n",
    "    elif nf < 5.0:\n",
    "        print(\"Aluno reprovado.\")\n",
    "    print(f\"Media final: {nf:.1f}\")\n",
    "    "
   ]
  },
  {
   "cell_type": "markdown",
   "metadata": {},
   "source": [
    "### 04 - Múltiplos"
   ]
  },
  {
   "cell_type": "code",
   "execution_count": null,
   "metadata": {
    "vscode": {
     "languageId": "plaintext"
    }
   },
   "outputs": [],
   "source": [
    "n1, n2 = input().split(\" \")\n",
    "n1, n2 = int(n1), int(n2)\n",
    "maior = 0\n",
    "menor = 0\n",
    "if n1==n2:\n",
    "    print(\"Sao Multiplos\")\n",
    "elif n1>n2:\n",
    "    maior = n1\n",
    "    menor = n2\n",
    "else:\n",
    "    maior = n2\n",
    "    menor = n1\n",
    "\n",
    "if maior%menor == 0:\n",
    "    print(\"Sao Multiplos\")\n",
    "else:\n",
    "    print(\"Nao sao Multiplos\")"
   ]
  },
  {
   "cell_type": "markdown",
   "metadata": {},
   "source": [
    "### 05 - Tipos de Triângulos"
   ]
  },
  {
   "cell_type": "code",
   "execution_count": null,
   "metadata": {
    "vscode": {
     "languageId": "plaintext"
    }
   },
   "outputs": [],
   "source": [
    "A, B, C = input().split(\" \")\n",
    "A, B, C = float(A), float(B), float(C)\n",
    "s = [A, B, C]\n",
    "s.sort()\n",
    "A, B, C = s[2], s[1], s[0]\n",
    "if A>=(B+C):\n",
    "    print(\"NAO FORMA TRIANGULO\")\n",
    "else:\n",
    "    if (A*A)==((B*B)+(C*C)):\n",
    "        print(\"TRIANGULO RETANGULO\")\n",
    "    elif (A*A)>((B*B)+(C*C)):\n",
    "        print(\"TRIANGULO OBTUSANGULO\")\n",
    "    elif (A*A)<((B*B)+(C*C)):\n",
    "        print(\"TRIANGULO ACUTANGULO\")\n",
    "    if A==B==C:\n",
    "        print(\"TRIANGULO EQUILATERO\")\n",
    "    elif A==B or A==C or B==C:\n",
    "        print(\"TRIANGULO ISOSCELES\")\n"
   ]
  },
  {
   "cell_type": "markdown",
   "metadata": {},
   "source": [
    "### 06 - Tempo de Jogo"
   ]
  },
  {
   "cell_type": "code",
   "execution_count": null,
   "metadata": {
    "vscode": {
     "languageId": "plaintext"
    }
   },
   "outputs": [],
   "source": [
    "ini, fin = input().split(\" \")\n",
    "ini, fin = int(ini), int(fin)\n",
    "if fin <= ini:\n",
    "    fin += 24\n",
    "\n",
    "print(f\"O JOGO DUROU {fin-ini} HORA(S)\")"
   ]
  }
 ],
 "metadata": {
  "language_info": {
   "name": "python"
  },
  "orig_nbformat": 4
 },
 "nbformat": 4,
 "nbformat_minor": 2
}
