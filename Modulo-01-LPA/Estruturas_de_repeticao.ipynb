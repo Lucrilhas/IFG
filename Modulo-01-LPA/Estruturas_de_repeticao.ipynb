{
 "cells": [
  {
   "cell_type": "markdown",
   "metadata": {},
   "source": [
    "### 01 - Imposto de Renda"
   ]
  },
  {
   "cell_type": "code",
   "execution_count": null,
   "metadata": {
    "vscode": {
     "languageId": "plaintext"
    }
   },
   "outputs": [],
   "source": [
    "s = float(input())\n",
    "if 0 <= s and s <= 2000.00:\n",
    "    print(\"Isento\")\n",
    "elif s <= 3000.00:\n",
    "    print(f\"R$ {(s-2000.00)*0.08:.2f}\")\n",
    "elif s <= 4500.00:\n",
    "    print(f\"R$ {(s-3000.00)*0.18+1000.00*0.08:.2f}\")\n",
    "else:\n",
    "    print(f\"R$ {(s-4500.00)*0.28+1500.00*0.18+1000.00*0.08:.2f}\")\n",
    "    "
   ]
  },
  {
   "cell_type": "markdown",
   "metadata": {},
   "source": [
    "### 02 - Quadrante"
   ]
  },
  {
   "cell_type": "code",
   "execution_count": null,
   "metadata": {
    "vscode": {
     "languageId": "plaintext"
    }
   },
   "outputs": [],
   "source": [
    "while True:\n",
    "    X, Y = input().split(\" \")\n",
    "    X, Y = int(X), int(Y)\n",
    "    if X != 0 and Y != 0:\n",
    "        if X > 0 and Y > 0:\n",
    "            print(\"primeiro\")\n",
    "        elif X < 0 and Y > 0:\n",
    "            print(\"segundo\")\n",
    "        elif X < 0 and Y < 0:\n",
    "            print(\"terceiro\")\n",
    "        else:\n",
    "            print(\"quarto\")\n",
    "    else:\n",
    "        break\n"
   ]
  },
  {
   "cell_type": "markdown",
   "metadata": {},
   "source": [
    "### 03 - Divisores I"
   ]
  },
  {
   "cell_type": "code",
   "execution_count": null,
   "metadata": {
    "vscode": {
     "languageId": "plaintext"
    }
   },
   "outputs": [],
   "source": [
    "n = int(input())\n",
    "for i in range(1, n+1):\n",
    "    if n%i == 0:\n",
    "        print(i)"
   ]
  },
  {
   "cell_type": "markdown",
   "metadata": {},
   "source": [
    "### 04 - Número Perfeito"
   ]
  },
  {
   "cell_type": "code",
   "execution_count": null,
   "metadata": {
    "vscode": {
     "languageId": "plaintext"
    }
   },
   "outputs": [],
   "source": [
    "t = int(input())\n",
    "for _ in range(t):\n",
    "    n, r = int(input()), 0\n",
    "    for i in range(1, 1 + n//2):\n",
    "        if n%i == 0:\n",
    "            r += i\n",
    "    if r == n:\n",
    "        print(f\"{n} eh perfeito\")\n",
    "    else:\n",
    "        print(f\"{n} nao eh perfeito\")"
   ]
  },
  {
   "cell_type": "markdown",
   "metadata": {},
   "source": [
    "### 05 - A Corrida de Lesmas"
   ]
  },
  {
   "cell_type": "code",
   "execution_count": null,
   "metadata": {
    "vscode": {
     "languageId": "plaintext"
    }
   },
   "outputs": [],
   "source": [
    "while True:\n",
    "    try:\n",
    "        inp = input()\n",
    "    except EOFError:\n",
    "        break\n",
    "    inp = int(inp)\n",
    "    ent = input().split(\" \")\n",
    "    for x in range(len(ent)):\n",
    "        ent[x] = int(ent[x])\n",
    "    if max(ent) < 10:\n",
    "        print(\"1\")\n",
    "    elif max(ent) < 20:\n",
    "        print(\"2\")\n",
    "    else:\n",
    "        print(\"3\")\n"
   ]
  }
 ],
 "metadata": {
  "language_info": {
   "name": "python"
  },
  "orig_nbformat": 4
 },
 "nbformat": 4,
 "nbformat_minor": 2
}
