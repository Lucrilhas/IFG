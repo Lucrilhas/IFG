{
 "cells": [
  {
   "attachments": {},
   "cell_type": "markdown",
   "metadata": {},
   "source": [
    "### 01 - Área do Circulo"
   ]
  },
  {
   "cell_type": "code",
   "execution_count": null,
   "metadata": {},
   "outputs": [],
   "source": [
    "r = float(input())\n",
    "c = 3.14159 * r ** 2\n",
    "print(f\"A={c:.4f}\")"
   ]
  },
  {
   "attachments": {},
   "cell_type": "markdown",
   "metadata": {},
   "source": [
    "### 02 - Média 01"
   ]
  },
  {
   "cell_type": "code",
   "execution_count": 21,
   "metadata": {},
   "outputs": [
    {
     "name": "stdout",
     "output_type": "stream",
     "text": [
      "MEDIA = 10.00000\n"
     ]
    }
   ],
   "source": [
    "import math\n",
    "\n",
    "A = math.trunc(float(input())*10)/10\n",
    "B = math.trunc(float(input())*10)/10\n",
    "\n",
    "print(f'MEDIA = {float(round(100000*(A*3.5 + B*7.5)/11)/100000):.5f}')\n"
   ]
  },
  {
   "attachments": {},
   "cell_type": "markdown",
   "metadata": {},
   "source": [
    "### 03 - Média 02"
   ]
  },
  {
   "cell_type": "code",
   "execution_count": 25,
   "metadata": {},
   "outputs": [
    {
     "name": "stdout",
     "output_type": "stream",
     "text": [
      "MEDIA = 7.5\n"
     ]
    }
   ],
   "source": [
    "import math\n",
    "\n",
    "A = math.trunc(float(input())*10)/10\n",
    "B = math.trunc(float(input())*10)/10\n",
    "C = math.trunc(float(input())*10)/10\n",
    "\n",
    "print(f'MEDIA = {float(round(10*(A*2.0 + B*3.0 + C*5.0)/10)/10):.1f}')"
   ]
  },
  {
   "attachments": {},
   "cell_type": "markdown",
   "metadata": {},
   "source": [
    "### 04 - Salário"
   ]
  },
  {
   "cell_type": "code",
   "execution_count": 26,
   "metadata": {},
   "outputs": [
    {
     "name": "stdout",
     "output_type": "stream",
     "text": [
      "SALARY = U$ 550.00\n"
     ]
    }
   ],
   "source": [
    "nf = int(input())\n",
    "ht = int(input())\n",
    "vph = float(input())\n",
    "print(f'NUMBER = {nf}')\n",
    "print(f'SALARY = U$ {(vph * ht):.2f}')"
   ]
  },
  {
   "attachments": {},
   "cell_type": "markdown",
   "metadata": {},
   "source": [
    "### 05 - Salário com Bônus"
   ]
  },
  {
   "cell_type": "code",
   "execution_count": 30,
   "metadata": {},
   "outputs": [
    {
     "name": "stdout",
     "output_type": "stream",
     "text": [
      "TOTAL = R$ 684.54\n"
     ]
    }
   ],
   "source": [
    "nf = input()\n",
    "s = float(input())\n",
    "tv = float(input())\n",
    "\n",
    "print(f'TOTAL = R$ {(s + tv*0.15):.2f}')"
   ]
  },
  {
   "attachments": {},
   "cell_type": "markdown",
   "metadata": {},
   "source": [
    "### 06 - Cálculo Simples"
   ]
  },
  {
   "cell_type": "code",
   "execution_count": 34,
   "metadata": {},
   "outputs": [
    {
     "name": "stdout",
     "output_type": "stream",
     "text": [
      "VALOR A PAGAR: R$ 15.50\n"
     ]
    }
   ],
   "source": [
    "cod1, num1, val1 = input().split(' ')\n",
    "cod2, num2, val2 = input().split(' ')\n",
    "print(f\"VALOR A PAGAR: R$ {int(num1)*float(val1) + int(num2)*float(val2):.2f}\")"
   ]
  },
  {
   "attachments": {},
   "cell_type": "markdown",
   "metadata": {},
   "source": [
    "### 07 - Esfera"
   ]
  },
  {
   "cell_type": "code",
   "execution_count": 38,
   "metadata": {},
   "outputs": [
    {
     "name": "stdout",
     "output_type": "stream",
     "text": [
      "VOLUME = 14797486501.627\n"
     ]
    }
   ],
   "source": [
    "r3 = int(input())**3\n",
    "print(f\"VOLUME = {(4.0  * 3.14159 * r3)/3.0:.3f}\")"
   ]
  }
 ],
 "metadata": {
  "kernelspec": {
   "display_name": "base",
   "language": "python",
   "name": "python3"
  },
  "language_info": {
   "codemirror_mode": {
    "name": "ipython",
    "version": 3
   },
   "file_extension": ".py",
   "mimetype": "text/x-python",
   "name": "python",
   "nbconvert_exporter": "python",
   "pygments_lexer": "ipython3",
   "version": "3.10.8"
  },
  "orig_nbformat": 4
 },
 "nbformat": 4,
 "nbformat_minor": 2
}
